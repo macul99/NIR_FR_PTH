{
 "cells": [
  {
   "cell_type": "code",
   "execution_count": 10,
   "metadata": {},
   "outputs": [],
   "source": [
    "import numpy as np\n",
    "import pandas as pd\n",
    "import torch\n",
    "from PIL import Image, ImageDraw, ImageFont\n",
    "from PIL import ImageFile\n",
    "import os\n",
    "from os import mkdir, makedirs, rename, listdir\n",
    "from os.path import join, exists, relpath, abspath\n",
    "import sys\n",
    "sys.path.append('/Projects/mk_utils/mklib/utils/')\n",
    "sys.path.append('/Projects/mk_utils/mklib/nn/pthnet')\n",
    "sys.path.append('/Projects/mk_utils/NIR_FR_PTH/')\n",
    "#sys.path.append('/Projects/pytorch-CycleGAN-and-pix2pix')"
   ]
  },
  {
   "cell_type": "code",
   "execution_count": 2,
   "metadata": {},
   "outputs": [],
   "source": [
    "from pthdataset import PairedLabelDataset, UnpairedLabelDataset\n",
    "from config import config"
   ]
  },
  {
   "cell_type": "code",
   "execution_count": 21,
   "metadata": {},
   "outputs": [],
   "source": [
    "config.DatasetPaired.load_size=64\n",
    "ds1 = PairedLabelDataset(config.DatasetPaired)"
   ]
  },
  {
   "cell_type": "code",
   "execution_count": 4,
   "metadata": {},
   "outputs": [],
   "source": [
    "ds2 = UnpairedLabelDataset(config.DatasetUnpaired)"
   ]
  },
  {
   "cell_type": "code",
   "execution_count": 16,
   "metadata": {},
   "outputs": [
    {
     "name": "stdout",
     "output_type": "stream",
     "text": [
      "tensor(-0.9216) tensor(0.9765)\n",
      "tensor(-0.8431) tensor(0.8510)\n",
      "tensor(-1.) tensor(0.7098)\n",
      "tensor(-1.) tensor(0.8039)\n"
     ]
    }
   ],
   "source": [
    "i=10\n",
    "print(torch.min(ds1[i]['A']), torch.max(ds1[i]['A']))\n",
    "print(torch.min(ds1[i]['B']), torch.max(ds1[i]['B']))\n",
    "print(torch.min(ds2[i]['A']), torch.max(ds2[i]['A']))\n",
    "print(torch.min(ds2[i]['B']), torch.max(ds2[i]['B']))"
   ]
  },
  {
   "cell_type": "code",
   "execution_count": 22,
   "metadata": {},
   "outputs": [
    {
     "data": {
      "text/plain": [
       "torch.Size([3, 64, 64])"
      ]
     },
     "execution_count": 22,
     "metadata": {},
     "output_type": "execute_result"
    }
   ],
   "source": [
    "ds1[0]['A'].size()"
   ]
  },
  {
   "cell_type": "code",
   "execution_count": 51,
   "metadata": {},
   "outputs": [],
   "source": [
    "ds=make_dataset('/Projects/NIR_FR_PTH/Oulu_ALIGN/NI/Strong')\n",
    "ds1=make_dataset('/Projects/NIR_FR_PTH/CASIA/NIR_ALIGN')"
   ]
  },
  {
   "cell_type": "code",
   "execution_count": 25,
   "metadata": {
    "scrolled": false
   },
   "outputs": [
    {
     "name": "stdout",
     "output_type": "stream",
     "text": [
      "len: 10379\n",
      "/Projects/NIR_FR_PTH/Oulu_ALIGN/NI/Strong/P001/Anger/013.jpeg\n",
      "P001\n"
     ]
    }
   ],
   "source": [
    "print('len:', len(ds))\n",
    "print(ds[0])\n",
    "print(ds[0].split('/')[-3])"
   ]
  },
  {
   "cell_type": "code",
   "execution_count": 55,
   "metadata": {
    "scrolled": false
   },
   "outputs": [
    {
     "name": "stdout",
     "output_type": "stream",
     "text": [
      "len: 12487\n",
      "/Projects/NIR_FR_PTH/CASIA/NIR_ALIGN/s3_NIR_20325_002.bmp\n",
      "20325\n"
     ]
    }
   ],
   "source": [
    "print('len:', len(ds1))\n",
    "print(ds1[0])\n",
    "print(ds1[0].split('/')[-1].split('_')[-2])"
   ]
  },
  {
   "cell_type": "code",
   "execution_count": 28,
   "metadata": {},
   "outputs": [
    {
     "name": "stdout",
     "output_type": "stream",
     "text": [
      "4\n"
     ]
    }
   ],
   "source": [
    "print(ds1[0].split('/').index('VL'))"
   ]
  },
  {
   "cell_type": "code",
   "execution_count": 36,
   "metadata": {},
   "outputs": [
    {
     "data": {
      "text/plain": [
       "1"
      ]
     },
     "execution_count": 36,
     "metadata": {},
     "output_type": "execute_result"
    }
   ],
   "source": [
    "int(ds[0].split('/')[-3][1:])"
   ]
  },
  {
   "cell_type": "code",
   "execution_count": 27,
   "metadata": {},
   "outputs": [
    {
     "name": "stdout",
     "output_type": "stream",
     "text": [
      "/Projects/NIR_FR_PTH/Oulu_ALIGN/VL/Strong/P001/Disgust/023.jpeg\n",
      "/Projects/NIR_FR_PTH/Oulu_ALIGN/VL/Strong/P001/Disgust/021.jpeg\n",
      "/Projects/NIR_FR_PTH/Oulu_ALIGN/VL/Strong/P001/Disgust/022.jpeg\n",
      "/Projects/NIR_FR_PTH/Oulu_ALIGN/VL/Strong/P001/Disgust/025.jpeg\n",
      "/Projects/NIR_FR_PTH/Oulu_ALIGN/VL/Strong/P001/Disgust/024.jpeg\n",
      "/Projects/NIR_FR_PTH/Oulu_ALIGN/VL/Strong/P001/Fear/018.jpeg\n",
      "/Projects/NIR_FR_PTH/Oulu_ALIGN/VL/Strong/P001/Fear/023.jpeg\n",
      "/Projects/NIR_FR_PTH/Oulu_ALIGN/VL/Strong/P001/Fear/019.jpeg\n",
      "/Projects/NIR_FR_PTH/Oulu_ALIGN/VL/Strong/P001/Fear/020.jpeg\n",
      "/Projects/NIR_FR_PTH/Oulu_ALIGN/VL/Strong/P001/Fear/021.jpeg\n",
      "/Projects/NIR_FR_PTH/Oulu_ALIGN/VL/Strong/P001/Fear/022.jpeg\n",
      "/Projects/NIR_FR_PTH/Oulu_ALIGN/VL/Strong/P001/Fear/026.jpeg\n",
      "/Projects/NIR_FR_PTH/Oulu_ALIGN/VL/Strong/P001/Fear/025.jpeg\n",
      "/Projects/NIR_FR_PTH/Oulu_ALIGN/VL/Strong/P001/Fear/024.jpeg\n",
      "/Projects/NIR_FR_PTH/Oulu_ALIGN/VL/Strong/P001/Happiness/030.jpeg\n",
      "/Projects/NIR_FR_PTH/Oulu_ALIGN/VL/Strong/P001/Happiness/029.jpeg\n",
      "/Projects/NIR_FR_PTH/Oulu_ALIGN/VL/Strong/P001/Happiness/027.jpeg\n",
      "/Projects/NIR_FR_PTH/Oulu_ALIGN/VL/Strong/P001/Happiness/028.jpeg\n",
      "/Projects/NIR_FR_PTH/Oulu_ALIGN/VL/Strong/P001/Happiness/026.jpeg\n",
      "/Projects/NIR_FR_PTH/Oulu_ALIGN/VL/Strong/P001/Happiness/025.jpeg\n",
      "/Projects/NIR_FR_PTH/Oulu_ALIGN/VL/Strong/P001/Happiness/024.jpeg\n",
      "/Projects/NIR_FR_PTH/Oulu_ALIGN/VL/Strong/P001/Sadness/018.jpeg\n",
      "/Projects/NIR_FR_PTH/Oulu_ALIGN/VL/Strong/P001/Sadness/019.jpeg\n",
      "/Projects/NIR_FR_PTH/Oulu_ALIGN/VL/Strong/P001/Surprise/030.jpeg\n",
      "/Projects/NIR_FR_PTH/Oulu_ALIGN/VL/Strong/P001/Surprise/029.jpeg\n",
      "/Projects/NIR_FR_PTH/Oulu_ALIGN/VL/Strong/P001/Surprise/027.jpeg\n",
      "/Projects/NIR_FR_PTH/Oulu_ALIGN/VL/Strong/P001/Surprise/028.jpeg\n",
      "/Projects/NIR_FR_PTH/Oulu_ALIGN/VL/Strong/P001/Surprise/026.jpeg\n",
      "/Projects/NIR_FR_PTH/Oulu_ALIGN/VL/Strong/P001/Surprise/032.jpeg\n",
      "/Projects/NIR_FR_PTH/Oulu_ALIGN/VL/Strong/P001/Surprise/031.jpeg\n",
      "/Projects/NIR_FR_PTH/Oulu_ALIGN/VL/Strong/P001/Surprise/025.jpeg\n",
      "/Projects/NIR_FR_PTH/Oulu_ALIGN/VL/Strong/P002/Fear/018.jpeg\n",
      "/Projects/NIR_FR_PTH/Oulu_ALIGN/VL/Strong/P002/Fear/017.jpeg\n",
      "/Projects/NIR_FR_PTH/Oulu_ALIGN/VL/Strong/P002/Happiness/016.jpeg\n",
      "/Projects/NIR_FR_PTH/Oulu_ALIGN/VL/Strong/P002/Happiness/017.jpeg\n",
      "/Projects/NIR_FR_PTH/Oulu_ALIGN/VL/Strong/P003/Anger/023.jpeg\n",
      "/Projects/NIR_FR_PTH/Oulu_ALIGN/VL/Strong/P003/Anger/021.jpeg\n",
      "/Projects/NIR_FR_PTH/Oulu_ALIGN/VL/Strong/P003/Anger/022.jpeg\n",
      "/Projects/NIR_FR_PTH/Oulu_ALIGN/VL/Strong/P003/Anger/024.jpeg\n",
      "/Projects/NIR_FR_PTH/Oulu_ALIGN/VL/Strong/P003/Fear/013.jpeg\n",
      "/Projects/NIR_FR_PTH/Oulu_ALIGN/VL/Strong/P003/Fear/014.jpeg\n",
      "/Projects/NIR_FR_PTH/Oulu_ALIGN/VL/Strong/P003/Sadness/018.jpeg\n",
      "/Projects/NIR_FR_PTH/Oulu_ALIGN/VL/Strong/P003/Sadness/016.jpeg\n",
      "/Projects/NIR_FR_PTH/Oulu_ALIGN/VL/Strong/P003/Sadness/015.jpeg\n",
      "/Projects/NIR_FR_PTH/Oulu_ALIGN/VL/Strong/P003/Sadness/017.jpeg\n",
      "/Projects/NIR_FR_PTH/Oulu_ALIGN/VL/Strong/P005/Disgust/023.jpeg\n",
      "/Projects/NIR_FR_PTH/Oulu_ALIGN/VL/Strong/P005/Disgust/030.jpeg\n",
      "/Projects/NIR_FR_PTH/Oulu_ALIGN/VL/Strong/P005/Disgust/029.jpeg\n",
      "/Projects/NIR_FR_PTH/Oulu_ALIGN/VL/Strong/P005/Disgust/034.jpeg\n",
      "/Projects/NIR_FR_PTH/Oulu_ALIGN/VL/Strong/P005/Disgust/021.jpeg\n",
      "/Projects/NIR_FR_PTH/Oulu_ALIGN/VL/Strong/P005/Disgust/027.jpeg\n",
      "/Projects/NIR_FR_PTH/Oulu_ALIGN/VL/Strong/P005/Disgust/022.jpeg\n",
      "/Projects/NIR_FR_PTH/Oulu_ALIGN/VL/Strong/P005/Disgust/028.jpeg\n",
      "/Projects/NIR_FR_PTH/Oulu_ALIGN/VL/Strong/P005/Disgust/026.jpeg\n",
      "/Projects/NIR_FR_PTH/Oulu_ALIGN/VL/Strong/P005/Disgust/033.jpeg\n",
      "/Projects/NIR_FR_PTH/Oulu_ALIGN/VL/Strong/P005/Disgust/032.jpeg\n",
      "/Projects/NIR_FR_PTH/Oulu_ALIGN/VL/Strong/P005/Disgust/031.jpeg\n",
      "/Projects/NIR_FR_PTH/Oulu_ALIGN/VL/Strong/P005/Disgust/025.jpeg\n",
      "/Projects/NIR_FR_PTH/Oulu_ALIGN/VL/Strong/P005/Disgust/024.jpeg\n",
      "/Projects/NIR_FR_PTH/Oulu_ALIGN/VL/Strong/P005/Surprise/016.jpeg\n",
      "/Projects/NIR_FR_PTH/Oulu_ALIGN/VL/Strong/P005/Surprise/017.jpeg\n",
      "/Projects/NIR_FR_PTH/Oulu_ALIGN/VL/Strong/P006/Anger/023.jpeg\n",
      "/Projects/NIR_FR_PTH/Oulu_ALIGN/VL/Strong/P006/Anger/026.jpeg\n",
      "/Projects/NIR_FR_PTH/Oulu_ALIGN/VL/Strong/P006/Anger/025.jpeg\n",
      "/Projects/NIR_FR_PTH/Oulu_ALIGN/VL/Strong/P006/Anger/024.jpeg\n",
      "/Projects/NIR_FR_PTH/Oulu_ALIGN/VL/Strong/P006/Disgust/030.jpeg\n",
      "/Projects/NIR_FR_PTH/Oulu_ALIGN/VL/Strong/P006/Disgust/029.jpeg\n",
      "/Projects/NIR_FR_PTH/Oulu_ALIGN/VL/Strong/P006/Disgust/027.jpeg\n",
      "/Projects/NIR_FR_PTH/Oulu_ALIGN/VL/Strong/P006/Disgust/028.jpeg\n",
      "/Projects/NIR_FR_PTH/Oulu_ALIGN/VL/Strong/P006/Sadness/018.jpeg\n",
      "/Projects/NIR_FR_PTH/Oulu_ALIGN/VL/Strong/P006/Sadness/023.jpeg\n",
      "/Projects/NIR_FR_PTH/Oulu_ALIGN/VL/Strong/P006/Sadness/019.jpeg\n",
      "/Projects/NIR_FR_PTH/Oulu_ALIGN/VL/Strong/P006/Sadness/016.jpeg\n",
      "/Projects/NIR_FR_PTH/Oulu_ALIGN/VL/Strong/P006/Sadness/020.jpeg\n",
      "/Projects/NIR_FR_PTH/Oulu_ALIGN/VL/Strong/P006/Sadness/021.jpeg\n",
      "/Projects/NIR_FR_PTH/Oulu_ALIGN/VL/Strong/P006/Sadness/022.jpeg\n",
      "/Projects/NIR_FR_PTH/Oulu_ALIGN/VL/Strong/P006/Sadness/017.jpeg\n",
      "/Projects/NIR_FR_PTH/Oulu_ALIGN/VL/Strong/P006/Surprise/016.jpeg\n",
      "/Projects/NIR_FR_PTH/Oulu_ALIGN/VL/Strong/P006/Surprise/015.jpeg\n",
      "/Projects/NIR_FR_PTH/Oulu_ALIGN/VL/Strong/P006/Surprise/014.jpeg\n",
      "/Projects/NIR_FR_PTH/Oulu_ALIGN/VL/Strong/P007/Fear/023.jpeg\n",
      "/Projects/NIR_FR_PTH/Oulu_ALIGN/VL/Strong/P007/Fear/022.jpeg\n",
      "/Projects/NIR_FR_PTH/Oulu_ALIGN/VL/Strong/P007/Fear/025.jpeg\n",
      "/Projects/NIR_FR_PTH/Oulu_ALIGN/VL/Strong/P007/Fear/024.jpeg\n",
      "/Projects/NIR_FR_PTH/Oulu_ALIGN/VL/Strong/P007/Sadness/023.jpeg\n",
      "/Projects/NIR_FR_PTH/Oulu_ALIGN/VL/Strong/P007/Sadness/025.jpeg\n",
      "/Projects/NIR_FR_PTH/Oulu_ALIGN/VL/Strong/P007/Sadness/024.jpeg\n",
      "/Projects/NIR_FR_PTH/Oulu_ALIGN/VL/Strong/P007/Surprise/041.jpeg\n",
      "/Projects/NIR_FR_PTH/Oulu_ALIGN/VL/Strong/P008/Anger/023.jpeg\n",
      "/Projects/NIR_FR_PTH/Oulu_ALIGN/VL/Strong/P008/Anger/029.jpeg\n",
      "/Projects/NIR_FR_PTH/Oulu_ALIGN/VL/Strong/P008/Anger/020.jpeg\n",
      "/Projects/NIR_FR_PTH/Oulu_ALIGN/VL/Strong/P008/Anger/021.jpeg\n",
      "/Projects/NIR_FR_PTH/Oulu_ALIGN/VL/Strong/P008/Anger/027.jpeg\n",
      "/Projects/NIR_FR_PTH/Oulu_ALIGN/VL/Strong/P008/Anger/022.jpeg\n",
      "/Projects/NIR_FR_PTH/Oulu_ALIGN/VL/Strong/P008/Anger/028.jpeg\n",
      "/Projects/NIR_FR_PTH/Oulu_ALIGN/VL/Strong/P008/Anger/026.jpeg\n",
      "/Projects/NIR_FR_PTH/Oulu_ALIGN/VL/Strong/P008/Anger/025.jpeg\n",
      "/Projects/NIR_FR_PTH/Oulu_ALIGN/VL/Strong/P008/Anger/024.jpeg\n",
      "/Projects/NIR_FR_PTH/Oulu_ALIGN/VL/Strong/P008/Disgust/029.jpeg\n",
      "/Projects/NIR_FR_PTH/Oulu_ALIGN/VL/Strong/P008/Disgust/027.jpeg\n",
      "/Projects/NIR_FR_PTH/Oulu_ALIGN/VL/Strong/P008/Disgust/028.jpeg\n",
      "/Projects/NIR_FR_PTH/Oulu_ALIGN/VL/Strong/P008/Disgust/026.jpeg\n",
      "/Projects/NIR_FR_PTH/Oulu_ALIGN/VL/Strong/P008/Disgust/025.jpeg\n",
      "/Projects/NIR_FR_PTH/Oulu_ALIGN/VL/Strong/P008/Fear/016.jpeg\n",
      "/Projects/NIR_FR_PTH/Oulu_ALIGN/VL/Strong/P008/Fear/015.jpeg\n",
      "/Projects/NIR_FR_PTH/Oulu_ALIGN/VL/Strong/P008/Happiness/020.jpeg\n",
      "/Projects/NIR_FR_PTH/Oulu_ALIGN/VL/Strong/P008/Surprise/030.jpeg\n",
      "/Projects/NIR_FR_PTH/Oulu_ALIGN/VL/Strong/P008/Surprise/032.jpeg\n",
      "/Projects/NIR_FR_PTH/Oulu_ALIGN/VL/Strong/P008/Surprise/031.jpeg\n",
      "/Projects/NIR_FR_PTH/Oulu_ALIGN/VL/Strong/P009/Disgust/023.jpeg\n",
      "/Projects/NIR_FR_PTH/Oulu_ALIGN/VL/Strong/P009/Disgust/022.jpeg\n",
      "/Projects/NIR_FR_PTH/Oulu_ALIGN/VL/Strong/P009/Happiness/018.jpeg\n",
      "/Projects/NIR_FR_PTH/Oulu_ALIGN/VL/Strong/P009/Happiness/017.jpeg\n",
      "/Projects/NIR_FR_PTH/Oulu_ALIGN/VL/Strong/P009/Sadness/012.jpeg\n",
      "/Projects/NIR_FR_PTH/Oulu_ALIGN/VL/Strong/P009/Sadness/011.jpeg\n",
      "/Projects/NIR_FR_PTH/Oulu_ALIGN/VL/Strong/P010/Anger/023.jpeg\n",
      "/Projects/NIR_FR_PTH/Oulu_ALIGN/VL/Strong/P010/Anger/020.jpeg\n",
      "/Projects/NIR_FR_PTH/Oulu_ALIGN/VL/Strong/P010/Anger/021.jpeg\n",
      "/Projects/NIR_FR_PTH/Oulu_ALIGN/VL/Strong/P010/Anger/022.jpeg\n",
      "/Projects/NIR_FR_PTH/Oulu_ALIGN/VL/Strong/P010/Sadness/012.jpeg\n",
      "/Projects/NIR_FR_PTH/Oulu_ALIGN/VL/Strong/P011/Anger/019.jpeg\n",
      "/Projects/NIR_FR_PTH/Oulu_ALIGN/VL/Strong/P011/Sadness/016.jpeg\n",
      "/Projects/NIR_FR_PTH/Oulu_ALIGN/VL/Strong/P011/Surprise/018.jpeg\n",
      "/Projects/NIR_FR_PTH/Oulu_ALIGN/VL/Strong/P011/Surprise/019.jpeg\n",
      "/Projects/NIR_FR_PTH/Oulu_ALIGN/VL/Strong/P012/Disgust/016.jpeg\n",
      "/Projects/NIR_FR_PTH/Oulu_ALIGN/VL/Strong/P012/Disgust/017.jpeg\n",
      "/Projects/NIR_FR_PTH/Oulu_ALIGN/VL/Strong/P012/Fear/025.jpeg\n",
      "/Projects/NIR_FR_PTH/Oulu_ALIGN/VL/Strong/P013/Disgust/018.jpeg\n",
      "/Projects/NIR_FR_PTH/Oulu_ALIGN/VL/Strong/P013/Disgust/019.jpeg\n",
      "/Projects/NIR_FR_PTH/Oulu_ALIGN/VL/Strong/P013/Disgust/020.jpeg\n",
      "/Projects/NIR_FR_PTH/Oulu_ALIGN/VL/Strong/P013/Disgust/017.jpeg\n",
      "/Projects/NIR_FR_PTH/Oulu_ALIGN/VL/Strong/P013/Happiness/012.jpeg\n",
      "/Projects/NIR_FR_PTH/Oulu_ALIGN/VL/Strong/P013/Sadness/016.jpeg\n",
      "/Projects/NIR_FR_PTH/Oulu_ALIGN/VL/Strong/P013/Sadness/015.jpeg\n",
      "/Projects/NIR_FR_PTH/Oulu_ALIGN/VL/Strong/P013/Sadness/014.jpeg\n",
      "/Projects/NIR_FR_PTH/Oulu_ALIGN/VL/Strong/P013/Sadness/017.jpeg\n",
      "/Projects/NIR_FR_PTH/Oulu_ALIGN/VL/Strong/P013/Surprise/020.jpeg\n",
      "/Projects/NIR_FR_PTH/Oulu_ALIGN/VL/Strong/P013/Surprise/021.jpeg\n",
      "/Projects/NIR_FR_PTH/Oulu_ALIGN/VL/Strong/P014/Anger/018.jpeg\n",
      "/Projects/NIR_FR_PTH/Oulu_ALIGN/VL/Strong/P014/Anger/017.jpeg\n",
      "/Projects/NIR_FR_PTH/Oulu_ALIGN/VL/Strong/P015/Fear/016.jpeg\n",
      "/Projects/NIR_FR_PTH/Oulu_ALIGN/VL/Strong/P015/Fear/017.jpeg\n",
      "/Projects/NIR_FR_PTH/Oulu_ALIGN/VL/Strong/P015/Happiness/018.jpeg\n",
      "/Projects/NIR_FR_PTH/Oulu_ALIGN/VL/Strong/P015/Happiness/019.jpeg\n",
      "/Projects/NIR_FR_PTH/Oulu_ALIGN/VL/Strong/P015/Happiness/020.jpeg\n",
      "/Projects/NIR_FR_PTH/Oulu_ALIGN/VL/Strong/P015/Happiness/021.jpeg\n",
      "/Projects/NIR_FR_PTH/Oulu_ALIGN/VL/Strong/P015/Happiness/022.jpeg\n",
      "/Projects/NIR_FR_PTH/Oulu_ALIGN/VL/Strong/P015/Sadness/026.jpeg\n",
      "/Projects/NIR_FR_PTH/Oulu_ALIGN/VL/Strong/P015/Surprise/013.jpeg\n",
      "/Projects/NIR_FR_PTH/Oulu_ALIGN/VL/Strong/P015/Surprise/015.jpeg\n",
      "/Projects/NIR_FR_PTH/Oulu_ALIGN/VL/Strong/P015/Surprise/012.jpeg\n",
      "/Projects/NIR_FR_PTH/Oulu_ALIGN/VL/Strong/P015/Surprise/014.jpeg\n",
      "/Projects/NIR_FR_PTH/Oulu_ALIGN/VL/Strong/P016/Anger/034.jpeg\n",
      "/Projects/NIR_FR_PTH/Oulu_ALIGN/VL/Strong/P016/Anger/033.jpeg\n",
      "/Projects/NIR_FR_PTH/Oulu_ALIGN/VL/Strong/P016/Anger/035.jpeg\n",
      "/Projects/NIR_FR_PTH/Oulu_ALIGN/VL/Strong/P016/Disgust/018.jpeg\n",
      "/Projects/NIR_FR_PTH/Oulu_ALIGN/VL/Strong/P016/Disgust/019.jpeg\n",
      "/Projects/NIR_FR_PTH/Oulu_ALIGN/VL/Strong/P016/Disgust/017.jpeg\n",
      "/Projects/NIR_FR_PTH/Oulu_ALIGN/VL/Strong/P016/Fear/030.jpeg\n",
      "/Projects/NIR_FR_PTH/Oulu_ALIGN/VL/Strong/P016/Fear/029.jpeg\n",
      "/Projects/NIR_FR_PTH/Oulu_ALIGN/VL/Strong/P016/Fear/034.jpeg\n",
      "/Projects/NIR_FR_PTH/Oulu_ALIGN/VL/Strong/P016/Fear/028.jpeg\n",
      "/Projects/NIR_FR_PTH/Oulu_ALIGN/VL/Strong/P016/Fear/033.jpeg\n",
      "/Projects/NIR_FR_PTH/Oulu_ALIGN/VL/Strong/P016/Fear/035.jpeg\n",
      "/Projects/NIR_FR_PTH/Oulu_ALIGN/VL/Strong/P016/Fear/032.jpeg\n",
      "/Projects/NIR_FR_PTH/Oulu_ALIGN/VL/Strong/P016/Fear/031.jpeg\n",
      "/Projects/NIR_FR_PTH/Oulu_ALIGN/VL/Strong/P016/Surprise/023.jpeg\n",
      "/Projects/NIR_FR_PTH/Oulu_ALIGN/VL/Strong/P016/Surprise/024.jpeg\n",
      "/Projects/NIR_FR_PTH/Oulu_ALIGN/VL/Strong/P017/Fear/018.jpeg\n",
      "/Projects/NIR_FR_PTH/Oulu_ALIGN/VL/Strong/P017/Fear/019.jpeg\n",
      "/Projects/NIR_FR_PTH/Oulu_ALIGN/VL/Strong/P017/Fear/017.jpeg\n",
      "/Projects/NIR_FR_PTH/Oulu_ALIGN/VL/Strong/P018/Fear/021.jpeg\n",
      "/Projects/NIR_FR_PTH/Oulu_ALIGN/VL/Strong/P018/Sadness/013.jpeg\n",
      "/Projects/NIR_FR_PTH/Oulu_ALIGN/VL/Strong/P018/Sadness/015.jpeg\n",
      "/Projects/NIR_FR_PTH/Oulu_ALIGN/VL/Strong/P018/Sadness/014.jpeg\n",
      "/Projects/NIR_FR_PTH/Oulu_ALIGN/VL/Strong/P019/Anger/023.jpeg\n",
      "/Projects/NIR_FR_PTH/Oulu_ALIGN/VL/Strong/P019/Anger/030.jpeg\n",
      "/Projects/NIR_FR_PTH/Oulu_ALIGN/VL/Strong/P019/Anger/029.jpeg\n",
      "/Projects/NIR_FR_PTH/Oulu_ALIGN/VL/Strong/P019/Anger/021.jpeg\n",
      "/Projects/NIR_FR_PTH/Oulu_ALIGN/VL/Strong/P019/Anger/027.jpeg\n",
      "/Projects/NIR_FR_PTH/Oulu_ALIGN/VL/Strong/P019/Anger/022.jpeg\n",
      "/Projects/NIR_FR_PTH/Oulu_ALIGN/VL/Strong/P019/Anger/028.jpeg\n",
      "/Projects/NIR_FR_PTH/Oulu_ALIGN/VL/Strong/P019/Anger/026.jpeg\n",
      "/Projects/NIR_FR_PTH/Oulu_ALIGN/VL/Strong/P019/Anger/032.jpeg\n",
      "/Projects/NIR_FR_PTH/Oulu_ALIGN/VL/Strong/P019/Anger/031.jpeg\n",
      "/Projects/NIR_FR_PTH/Oulu_ALIGN/VL/Strong/P019/Anger/025.jpeg\n",
      "/Projects/NIR_FR_PTH/Oulu_ALIGN/VL/Strong/P019/Anger/024.jpeg\n",
      "/Projects/NIR_FR_PTH/Oulu_ALIGN/VL/Strong/P019/Disgust/011.jpeg\n",
      "/Projects/NIR_FR_PTH/Oulu_ALIGN/VL/Strong/P019/Fear/020.jpeg\n",
      "/Projects/NIR_FR_PTH/Oulu_ALIGN/VL/Strong/P019/Fear/021.jpeg\n",
      "/Projects/NIR_FR_PTH/Oulu_ALIGN/VL/Strong/P019/Sadness/013.jpeg\n",
      "/Projects/NIR_FR_PTH/Oulu_ALIGN/VL/Strong/P019/Sadness/016.jpeg\n",
      "/Projects/NIR_FR_PTH/Oulu_ALIGN/VL/Strong/P019/Sadness/015.jpeg\n",
      "/Projects/NIR_FR_PTH/Oulu_ALIGN/VL/Strong/P019/Sadness/012.jpeg\n",
      "/Projects/NIR_FR_PTH/Oulu_ALIGN/VL/Strong/P019/Sadness/014.jpeg\n",
      "/Projects/NIR_FR_PTH/Oulu_ALIGN/VL/Strong/P019/Surprise/018.jpeg\n",
      "/Projects/NIR_FR_PTH/Oulu_ALIGN/VL/Strong/P019/Surprise/019.jpeg\n",
      "/Projects/NIR_FR_PTH/Oulu_ALIGN/VL/Strong/P019/Surprise/020.jpeg\n",
      "/Projects/NIR_FR_PTH/Oulu_ALIGN/VL/Strong/P019/Surprise/017.jpeg\n",
      "/Projects/NIR_FR_PTH/Oulu_ALIGN/VL/Strong/P021/Anger/018.jpeg\n",
      "/Projects/NIR_FR_PTH/Oulu_ALIGN/VL/Strong/P021/Anger/019.jpeg\n",
      "/Projects/NIR_FR_PTH/Oulu_ALIGN/VL/Strong/P021/Anger/016.jpeg\n",
      "/Projects/NIR_FR_PTH/Oulu_ALIGN/VL/Strong/P021/Anger/020.jpeg\n",
      "/Projects/NIR_FR_PTH/Oulu_ALIGN/VL/Strong/P021/Anger/021.jpeg\n",
      "/Projects/NIR_FR_PTH/Oulu_ALIGN/VL/Strong/P021/Anger/022.jpeg\n",
      "/Projects/NIR_FR_PTH/Oulu_ALIGN/VL/Strong/P021/Anger/017.jpeg\n",
      "/Projects/NIR_FR_PTH/Oulu_ALIGN/VL/Strong/P021/Fear/011.jpeg\n",
      "/Projects/NIR_FR_PTH/Oulu_ALIGN/VL/Strong/P021/Happiness/018.jpeg\n",
      "/Projects/NIR_FR_PTH/Oulu_ALIGN/VL/Strong/P021/Happiness/019.jpeg\n",
      "/Projects/NIR_FR_PTH/Oulu_ALIGN/VL/Strong/P021/Happiness/016.jpeg\n",
      "/Projects/NIR_FR_PTH/Oulu_ALIGN/VL/Strong/P021/Happiness/015.jpeg\n",
      "/Projects/NIR_FR_PTH/Oulu_ALIGN/VL/Strong/P021/Happiness/020.jpeg\n",
      "/Projects/NIR_FR_PTH/Oulu_ALIGN/VL/Strong/P021/Happiness/021.jpeg\n",
      "/Projects/NIR_FR_PTH/Oulu_ALIGN/VL/Strong/P021/Happiness/017.jpeg\n",
      "/Projects/NIR_FR_PTH/Oulu_ALIGN/VL/Strong/P021/Surprise/011.jpeg\n",
      "/Projects/NIR_FR_PTH/Oulu_ALIGN/VL/Strong/P022/Disgust/021.jpeg\n",
      "/Projects/NIR_FR_PTH/Oulu_ALIGN/VL/Strong/P022/Disgust/022.jpeg\n",
      "/Projects/NIR_FR_PTH/Oulu_ALIGN/VL/Strong/P023/Sadness/036.jpeg\n",
      "/Projects/NIR_FR_PTH/Oulu_ALIGN/VL/Strong/P023/Sadness/030.jpeg\n",
      "/Projects/NIR_FR_PTH/Oulu_ALIGN/VL/Strong/P023/Sadness/029.jpeg\n",
      "/Projects/NIR_FR_PTH/Oulu_ALIGN/VL/Strong/P023/Sadness/034.jpeg\n",
      "/Projects/NIR_FR_PTH/Oulu_ALIGN/VL/Strong/P023/Sadness/033.jpeg\n",
      "/Projects/NIR_FR_PTH/Oulu_ALIGN/VL/Strong/P023/Sadness/035.jpeg\n",
      "/Projects/NIR_FR_PTH/Oulu_ALIGN/VL/Strong/P023/Sadness/032.jpeg\n",
      "/Projects/NIR_FR_PTH/Oulu_ALIGN/VL/Strong/P023/Sadness/031.jpeg\n",
      "/Projects/NIR_FR_PTH/Oulu_ALIGN/VL/Strong/P023/Sadness/037.jpeg\n",
      "/Projects/NIR_FR_PTH/Oulu_ALIGN/VL/Strong/P024/Anger/023.jpeg\n",
      "/Projects/NIR_FR_PTH/Oulu_ALIGN/VL/Strong/P024/Anger/024.jpeg\n",
      "/Projects/NIR_FR_PTH/Oulu_ALIGN/VL/Strong/P024/Fear/023.jpeg\n",
      "/Projects/NIR_FR_PTH/Oulu_ALIGN/VL/Strong/P024/Surprise/023.jpeg\n",
      "/Projects/NIR_FR_PTH/Oulu_ALIGN/VL/Strong/P026/Anger/019.jpeg\n",
      "/Projects/NIR_FR_PTH/Oulu_ALIGN/VL/Strong/P026/Fear/029.jpeg\n",
      "/Projects/NIR_FR_PTH/Oulu_ALIGN/VL/Strong/P026/Sadness/023.jpeg\n",
      "/Projects/NIR_FR_PTH/Oulu_ALIGN/VL/Strong/P028/Happiness/036.jpeg\n",
      "/Projects/NIR_FR_PTH/Oulu_ALIGN/VL/Strong/P028/Surprise/018.jpeg\n",
      "/Projects/NIR_FR_PTH/Oulu_ALIGN/VL/Strong/P028/Surprise/019.jpeg\n",
      "/Projects/NIR_FR_PTH/Oulu_ALIGN/VL/Strong/P029/Anger/023.jpeg\n",
      "/Projects/NIR_FR_PTH/Oulu_ALIGN/VL/Strong/P029/Anger/022.jpeg\n",
      "/Projects/NIR_FR_PTH/Oulu_ALIGN/VL/Strong/P029/Anger/024.jpeg\n",
      "/Projects/NIR_FR_PTH/Oulu_ALIGN/VL/Strong/P029/Disgust/018.jpeg\n",
      "/Projects/NIR_FR_PTH/Oulu_ALIGN/VL/Strong/P029/Disgust/017.jpeg\n",
      "/Projects/NIR_FR_PTH/Oulu_ALIGN/VL/Strong/P029/Fear/023.jpeg\n",
      "/Projects/NIR_FR_PTH/Oulu_ALIGN/VL/Strong/P029/Fear/026.jpeg\n",
      "/Projects/NIR_FR_PTH/Oulu_ALIGN/VL/Strong/P029/Fear/025.jpeg\n",
      "/Projects/NIR_FR_PTH/Oulu_ALIGN/VL/Strong/P029/Fear/024.jpeg\n",
      "/Projects/NIR_FR_PTH/Oulu_ALIGN/VL/Strong/P029/Sadness/013.jpeg\n",
      "/Projects/NIR_FR_PTH/Oulu_ALIGN/VL/Strong/P030/Disgust/021.jpeg\n",
      "/Projects/NIR_FR_PTH/Oulu_ALIGN/VL/Strong/P030/Fear/023.jpeg\n",
      "/Projects/NIR_FR_PTH/Oulu_ALIGN/VL/Strong/P030/Fear/022.jpeg\n",
      "/Projects/NIR_FR_PTH/Oulu_ALIGN/VL/Strong/P030/Fear/024.jpeg\n",
      "/Projects/NIR_FR_PTH/Oulu_ALIGN/VL/Strong/P030/Happiness/019.jpeg\n",
      "/Projects/NIR_FR_PTH/Oulu_ALIGN/VL/Strong/P031/Disgust/014.jpeg\n",
      "/Projects/NIR_FR_PTH/Oulu_ALIGN/VL/Strong/P032/Fear/039.jpeg\n",
      "/Projects/NIR_FR_PTH/Oulu_ALIGN/VL/Strong/P032/Fear/041.jpeg\n",
      "/Projects/NIR_FR_PTH/Oulu_ALIGN/VL/Strong/P032/Fear/040.jpeg\n",
      "/Projects/NIR_FR_PTH/Oulu_ALIGN/VL/Strong/P033/Surprise/017.jpeg\n",
      "/Projects/NIR_FR_PTH/Oulu_ALIGN/VL/Strong/P034/Fear/013.jpeg\n",
      "/Projects/NIR_FR_PTH/Oulu_ALIGN/VL/Strong/P035/Surprise/019.jpeg\n",
      "/Projects/NIR_FR_PTH/Oulu_ALIGN/VL/Strong/P036/Disgust/020.jpeg\n",
      "/Projects/NIR_FR_PTH/Oulu_ALIGN/VL/Strong/P036/Disgust/021.jpeg\n",
      "/Projects/NIR_FR_PTH/Oulu_ALIGN/VL/Strong/P037/Surprise/019.jpeg\n",
      "/Projects/NIR_FR_PTH/Oulu_ALIGN/VL/Strong/P037/Surprise/020.jpeg\n",
      "/Projects/NIR_FR_PTH/Oulu_ALIGN/VL/Strong/P038/Happiness/045.jpeg\n",
      "/Projects/NIR_FR_PTH/Oulu_ALIGN/VL/Strong/P038/Sadness/023.jpeg\n",
      "/Projects/NIR_FR_PTH/Oulu_ALIGN/VL/Strong/P039/Anger/018.jpeg\n",
      "/Projects/NIR_FR_PTH/Oulu_ALIGN/VL/Strong/P039/Anger/023.jpeg\n",
      "/Projects/NIR_FR_PTH/Oulu_ALIGN/VL/Strong/P039/Anger/019.jpeg\n",
      "/Projects/NIR_FR_PTH/Oulu_ALIGN/VL/Strong/P039/Anger/016.jpeg\n",
      "/Projects/NIR_FR_PTH/Oulu_ALIGN/VL/Strong/P039/Anger/015.jpeg\n",
      "/Projects/NIR_FR_PTH/Oulu_ALIGN/VL/Strong/P039/Anger/020.jpeg\n",
      "/Projects/NIR_FR_PTH/Oulu_ALIGN/VL/Strong/P039/Anger/021.jpeg\n",
      "/Projects/NIR_FR_PTH/Oulu_ALIGN/VL/Strong/P039/Anger/022.jpeg\n",
      "/Projects/NIR_FR_PTH/Oulu_ALIGN/VL/Strong/P039/Anger/014.jpeg\n",
      "/Projects/NIR_FR_PTH/Oulu_ALIGN/VL/Strong/P039/Anger/017.jpeg\n",
      "/Projects/NIR_FR_PTH/Oulu_ALIGN/VL/Strong/P039/Anger/024.jpeg\n",
      "/Projects/NIR_FR_PTH/Oulu_ALIGN/VL/Strong/P039/Disgust/023.jpeg\n",
      "/Projects/NIR_FR_PTH/Oulu_ALIGN/VL/Strong/P039/Disgust/022.jpeg\n",
      "/Projects/NIR_FR_PTH/Oulu_ALIGN/VL/Strong/P039/Fear/018.jpeg\n",
      "/Projects/NIR_FR_PTH/Oulu_ALIGN/VL/Strong/P039/Fear/023.jpeg\n",
      "/Projects/NIR_FR_PTH/Oulu_ALIGN/VL/Strong/P039/Fear/019.jpeg\n",
      "/Projects/NIR_FR_PTH/Oulu_ALIGN/VL/Strong/P039/Fear/020.jpeg\n",
      "/Projects/NIR_FR_PTH/Oulu_ALIGN/VL/Strong/P039/Fear/021.jpeg\n",
      "/Projects/NIR_FR_PTH/Oulu_ALIGN/VL/Strong/P039/Fear/022.jpeg\n",
      "/Projects/NIR_FR_PTH/Oulu_ALIGN/VL/Strong/P039/Fear/024.jpeg\n",
      "/Projects/NIR_FR_PTH/Oulu_ALIGN/VL/Strong/P039/Happiness/016.jpeg\n",
      "/Projects/NIR_FR_PTH/Oulu_ALIGN/VL/Strong/P040/Anger/015.jpeg\n",
      "/Projects/NIR_FR_PTH/Oulu_ALIGN/VL/Strong/P040/Disgust/018.jpeg\n",
      "/Projects/NIR_FR_PTH/Oulu_ALIGN/VL/Strong/P040/Disgust/019.jpeg\n",
      "/Projects/NIR_FR_PTH/Oulu_ALIGN/VL/Strong/P040/Disgust/017.jpeg\n",
      "/Projects/NIR_FR_PTH/Oulu_ALIGN/VL/Strong/P040/Fear/019.jpeg\n",
      "/Projects/NIR_FR_PTH/Oulu_ALIGN/VL/Strong/P040/Fear/020.jpeg\n",
      "/Projects/NIR_FR_PTH/Oulu_ALIGN/VL/Strong/P040/Fear/021.jpeg\n",
      "/Projects/NIR_FR_PTH/Oulu_ALIGN/VL/Strong/P040/Fear/022.jpeg\n",
      "/Projects/NIR_FR_PTH/Oulu_ALIGN/VL/Strong/P041/Fear/018.jpeg\n",
      "/Projects/NIR_FR_PTH/Oulu_ALIGN/VL/Strong/P041/Fear/019.jpeg\n",
      "/Projects/NIR_FR_PTH/Oulu_ALIGN/VL/Strong/P041/Fear/020.jpeg\n",
      "/Projects/NIR_FR_PTH/Oulu_ALIGN/VL/Strong/P041/Fear/017.jpeg\n",
      "/Projects/NIR_FR_PTH/Oulu_ALIGN/VL/Strong/P041/Sadness/023.jpeg\n",
      "/Projects/NIR_FR_PTH/Oulu_ALIGN/VL/Strong/P041/Surprise/018.jpeg\n",
      "/Projects/NIR_FR_PTH/Oulu_ALIGN/VL/Strong/P041/Surprise/019.jpeg\n",
      "/Projects/NIR_FR_PTH/Oulu_ALIGN/VL/Strong/P042/Disgust/020.jpeg\n",
      "/Projects/NIR_FR_PTH/Oulu_ALIGN/VL/Strong/P042/Disgust/021.jpeg\n",
      "/Projects/NIR_FR_PTH/Oulu_ALIGN/VL/Strong/P042/Fear/022.jpeg\n",
      "/Projects/NIR_FR_PTH/Oulu_ALIGN/VL/Strong/P042/Surprise/016.jpeg\n",
      "/Projects/NIR_FR_PTH/Oulu_ALIGN/VL/Strong/P042/Surprise/015.jpeg\n",
      "/Projects/NIR_FR_PTH/Oulu_ALIGN/VL/Strong/P042/Surprise/017.jpeg\n",
      "/Projects/NIR_FR_PTH/Oulu_ALIGN/VL/Strong/P043/Sadness/024.jpeg\n",
      "/Projects/NIR_FR_PTH/Oulu_ALIGN/VL/Strong/P043/Surprise/036.jpeg\n",
      "/Projects/NIR_FR_PTH/Oulu_ALIGN/VL/Strong/P043/Surprise/030.jpeg\n",
      "/Projects/NIR_FR_PTH/Oulu_ALIGN/VL/Strong/P043/Surprise/029.jpeg\n",
      "/Projects/NIR_FR_PTH/Oulu_ALIGN/VL/Strong/P043/Surprise/034.jpeg\n",
      "/Projects/NIR_FR_PTH/Oulu_ALIGN/VL/Strong/P043/Surprise/027.jpeg\n",
      "/Projects/NIR_FR_PTH/Oulu_ALIGN/VL/Strong/P043/Surprise/028.jpeg\n",
      "/Projects/NIR_FR_PTH/Oulu_ALIGN/VL/Strong/P043/Surprise/026.jpeg\n",
      "/Projects/NIR_FR_PTH/Oulu_ALIGN/VL/Strong/P043/Surprise/033.jpeg\n",
      "/Projects/NIR_FR_PTH/Oulu_ALIGN/VL/Strong/P043/Surprise/035.jpeg\n",
      "/Projects/NIR_FR_PTH/Oulu_ALIGN/VL/Strong/P043/Surprise/032.jpeg\n",
      "/Projects/NIR_FR_PTH/Oulu_ALIGN/VL/Strong/P043/Surprise/031.jpeg\n",
      "/Projects/NIR_FR_PTH/Oulu_ALIGN/VL/Strong/P043/Surprise/025.jpeg\n",
      "/Projects/NIR_FR_PTH/Oulu_ALIGN/VL/Strong/P044/Fear/023.jpeg\n",
      "/Projects/NIR_FR_PTH/Oulu_ALIGN/VL/Strong/P044/Fear/022.jpeg\n",
      "/Projects/NIR_FR_PTH/Oulu_ALIGN/VL/Strong/P044/Happiness/019.jpeg\n",
      "/Projects/NIR_FR_PTH/Oulu_ALIGN/VL/Strong/P044/Happiness/020.jpeg\n",
      "/Projects/NIR_FR_PTH/Oulu_ALIGN/VL/Strong/P045/Disgust/023.jpeg\n",
      "/Projects/NIR_FR_PTH/Oulu_ALIGN/VL/Strong/P045/Disgust/024.jpeg\n",
      "/Projects/NIR_FR_PTH/Oulu_ALIGN/VL/Strong/P045/Surprise/020.jpeg\n",
      "/Projects/NIR_FR_PTH/Oulu_ALIGN/VL/Strong/P046/Anger/018.jpeg\n",
      "/Projects/NIR_FR_PTH/Oulu_ALIGN/VL/Strong/P046/Anger/017.jpeg\n",
      "/Projects/NIR_FR_PTH/Oulu_ALIGN/VL/Strong/P047/Disgust/028.jpeg\n",
      "/Projects/NIR_FR_PTH/Oulu_ALIGN/VL/Strong/P048/Happiness/022.jpeg\n",
      "/Projects/NIR_FR_PTH/Oulu_ALIGN/VL/Strong/P049/Disgust/013.jpeg\n",
      "/Projects/NIR_FR_PTH/Oulu_ALIGN/VL/Strong/P049/Fear/025.jpeg\n",
      "/Projects/NIR_FR_PTH/Oulu_ALIGN/VL/Strong/P050/Fear/024.jpeg\n",
      "/Projects/NIR_FR_PTH/Oulu_ALIGN/VL/Strong/P050/Sadness/030.jpeg\n",
      "/Projects/NIR_FR_PTH/Oulu_ALIGN/VL/Strong/P050/Surprise/022.jpeg\n",
      "/Projects/NIR_FR_PTH/Oulu_ALIGN/VL/Strong/P051/Anger/018.jpeg\n",
      "/Projects/NIR_FR_PTH/Oulu_ALIGN/VL/Strong/P051/Anger/023.jpeg\n",
      "/Projects/NIR_FR_PTH/Oulu_ALIGN/VL/Strong/P051/Anger/019.jpeg\n",
      "/Projects/NIR_FR_PTH/Oulu_ALIGN/VL/Strong/P051/Anger/016.jpeg\n",
      "/Projects/NIR_FR_PTH/Oulu_ALIGN/VL/Strong/P051/Anger/015.jpeg\n",
      "/Projects/NIR_FR_PTH/Oulu_ALIGN/VL/Strong/P051/Anger/020.jpeg\n",
      "/Projects/NIR_FR_PTH/Oulu_ALIGN/VL/Strong/P051/Anger/021.jpeg\n",
      "/Projects/NIR_FR_PTH/Oulu_ALIGN/VL/Strong/P051/Anger/027.jpeg\n",
      "/Projects/NIR_FR_PTH/Oulu_ALIGN/VL/Strong/P051/Anger/022.jpeg\n",
      "/Projects/NIR_FR_PTH/Oulu_ALIGN/VL/Strong/P051/Anger/026.jpeg\n",
      "/Projects/NIR_FR_PTH/Oulu_ALIGN/VL/Strong/P051/Anger/017.jpeg\n",
      "/Projects/NIR_FR_PTH/Oulu_ALIGN/VL/Strong/P051/Anger/025.jpeg\n",
      "/Projects/NIR_FR_PTH/Oulu_ALIGN/VL/Strong/P051/Anger/024.jpeg\n",
      "/Projects/NIR_FR_PTH/Oulu_ALIGN/VL/Strong/P051/Disgust/023.jpeg\n",
      "/Projects/NIR_FR_PTH/Oulu_ALIGN/VL/Strong/P051/Disgust/022.jpeg\n",
      "/Projects/NIR_FR_PTH/Oulu_ALIGN/VL/Strong/P051/Disgust/026.jpeg\n",
      "/Projects/NIR_FR_PTH/Oulu_ALIGN/VL/Strong/P051/Disgust/025.jpeg\n",
      "/Projects/NIR_FR_PTH/Oulu_ALIGN/VL/Strong/P051/Disgust/024.jpeg\n",
      "/Projects/NIR_FR_PTH/Oulu_ALIGN/VL/Strong/P051/Sadness/019.jpeg\n",
      "/Projects/NIR_FR_PTH/Oulu_ALIGN/VL/Strong/P051/Sadness/020.jpeg\n",
      "/Projects/NIR_FR_PTH/Oulu_ALIGN/VL/Strong/P051/Sadness/021.jpeg\n",
      "/Projects/NIR_FR_PTH/Oulu_ALIGN/VL/Strong/P051/Sadness/022.jpeg\n",
      "/Projects/NIR_FR_PTH/Oulu_ALIGN/VL/Strong/P051/Surprise/023.jpeg\n",
      "/Projects/NIR_FR_PTH/Oulu_ALIGN/VL/Strong/P051/Surprise/019.jpeg\n",
      "/Projects/NIR_FR_PTH/Oulu_ALIGN/VL/Strong/P051/Surprise/020.jpeg\n",
      "/Projects/NIR_FR_PTH/Oulu_ALIGN/VL/Strong/P051/Surprise/021.jpeg\n",
      "/Projects/NIR_FR_PTH/Oulu_ALIGN/VL/Strong/P051/Surprise/022.jpeg\n",
      "/Projects/NIR_FR_PTH/Oulu_ALIGN/VL/Strong/P051/Surprise/024.jpeg\n",
      "/Projects/NIR_FR_PTH/Oulu_ALIGN/VL/Strong/P052/Disgust/023.jpeg\n",
      "/Projects/NIR_FR_PTH/Oulu_ALIGN/VL/Strong/P052/Disgust/019.jpeg\n",
      "/Projects/NIR_FR_PTH/Oulu_ALIGN/VL/Strong/P052/Disgust/020.jpeg\n",
      "/Projects/NIR_FR_PTH/Oulu_ALIGN/VL/Strong/P052/Disgust/021.jpeg\n",
      "/Projects/NIR_FR_PTH/Oulu_ALIGN/VL/Strong/P052/Disgust/022.jpeg\n",
      "/Projects/NIR_FR_PTH/Oulu_ALIGN/VL/Strong/P052/Disgust/025.jpeg\n",
      "/Projects/NIR_FR_PTH/Oulu_ALIGN/VL/Strong/P052/Disgust/024.jpeg\n",
      "/Projects/NIR_FR_PTH/Oulu_ALIGN/VL/Strong/P053/Anger/018.jpeg\n",
      "/Projects/NIR_FR_PTH/Oulu_ALIGN/VL/Strong/P053/Anger/019.jpeg\n",
      "/Projects/NIR_FR_PTH/Oulu_ALIGN/VL/Strong/P053/Anger/017.jpeg\n",
      "/Projects/NIR_FR_PTH/Oulu_ALIGN/VL/Strong/P053/Fear/018.jpeg\n",
      "/Projects/NIR_FR_PTH/Oulu_ALIGN/VL/Strong/P053/Fear/023.jpeg\n",
      "/Projects/NIR_FR_PTH/Oulu_ALIGN/VL/Strong/P053/Fear/019.jpeg\n",
      "/Projects/NIR_FR_PTH/Oulu_ALIGN/VL/Strong/P053/Fear/016.jpeg\n",
      "/Projects/NIR_FR_PTH/Oulu_ALIGN/VL/Strong/P053/Fear/020.jpeg\n",
      "/Projects/NIR_FR_PTH/Oulu_ALIGN/VL/Strong/P053/Fear/021.jpeg\n",
      "/Projects/NIR_FR_PTH/Oulu_ALIGN/VL/Strong/P053/Fear/022.jpeg\n",
      "/Projects/NIR_FR_PTH/Oulu_ALIGN/VL/Strong/P053/Fear/017.jpeg\n",
      "/Projects/NIR_FR_PTH/Oulu_ALIGN/VL/Strong/P053/Fear/025.jpeg\n",
      "/Projects/NIR_FR_PTH/Oulu_ALIGN/VL/Strong/P053/Fear/024.jpeg\n",
      "/Projects/NIR_FR_PTH/Oulu_ALIGN/VL/Strong/P053/Sadness/018.jpeg\n",
      "/Projects/NIR_FR_PTH/Oulu_ALIGN/VL/Strong/P053/Sadness/019.jpeg\n",
      "/Projects/NIR_FR_PTH/Oulu_ALIGN/VL/Strong/P053/Sadness/020.jpeg\n",
      "/Projects/NIR_FR_PTH/Oulu_ALIGN/VL/Strong/P053/Sadness/021.jpeg\n",
      "/Projects/NIR_FR_PTH/Oulu_ALIGN/VL/Strong/P053/Sadness/022.jpeg\n",
      "/Projects/NIR_FR_PTH/Oulu_ALIGN/VL/Strong/P053/Sadness/017.jpeg\n",
      "/Projects/NIR_FR_PTH/Oulu_ALIGN/VL/Strong/P053/Surprise/021.jpeg\n",
      "/Projects/NIR_FR_PTH/Oulu_ALIGN/VL/Strong/P053/Surprise/022.jpeg\n",
      "/Projects/NIR_FR_PTH/Oulu_ALIGN/VL/Strong/P054/Anger/021.jpeg\n",
      "/Projects/NIR_FR_PTH/Oulu_ALIGN/VL/Strong/P054/Anger/022.jpeg\n",
      "/Projects/NIR_FR_PTH/Oulu_ALIGN/VL/Strong/P054/Disgust/018.jpeg\n",
      "/Projects/NIR_FR_PTH/Oulu_ALIGN/VL/Strong/P054/Disgust/019.jpeg\n",
      "/Projects/NIR_FR_PTH/Oulu_ALIGN/VL/Strong/P054/Disgust/020.jpeg\n",
      "/Projects/NIR_FR_PTH/Oulu_ALIGN/VL/Strong/P054/Disgust/021.jpeg\n",
      "/Projects/NIR_FR_PTH/Oulu_ALIGN/VL/Strong/P054/Sadness/023.jpeg\n",
      "/Projects/NIR_FR_PTH/Oulu_ALIGN/VL/Strong/P054/Surprise/018.jpeg\n",
      "/Projects/NIR_FR_PTH/Oulu_ALIGN/VL/Strong/P054/Surprise/019.jpeg\n",
      "/Projects/NIR_FR_PTH/Oulu_ALIGN/VL/Strong/P054/Surprise/020.jpeg\n",
      "/Projects/NIR_FR_PTH/Oulu_ALIGN/VL/Strong/P054/Surprise/017.jpeg\n",
      "/Projects/NIR_FR_PTH/Oulu_ALIGN/VL/Strong/P055/Anger/018.jpeg\n",
      "/Projects/NIR_FR_PTH/Oulu_ALIGN/VL/Strong/P055/Anger/023.jpeg\n",
      "/Projects/NIR_FR_PTH/Oulu_ALIGN/VL/Strong/P055/Anger/019.jpeg\n",
      "/Projects/NIR_FR_PTH/Oulu_ALIGN/VL/Strong/P055/Anger/020.jpeg\n",
      "/Projects/NIR_FR_PTH/Oulu_ALIGN/VL/Strong/P055/Anger/021.jpeg\n",
      "/Projects/NIR_FR_PTH/Oulu_ALIGN/VL/Strong/P055/Anger/022.jpeg\n",
      "/Projects/NIR_FR_PTH/Oulu_ALIGN/VL/Strong/P055/Anger/017.jpeg\n",
      "/Projects/NIR_FR_PTH/Oulu_ALIGN/VL/Strong/P055/Fear/021.jpeg\n",
      "/Projects/NIR_FR_PTH/Oulu_ALIGN/VL/Strong/P056/Anger/018.jpeg\n",
      "/Projects/NIR_FR_PTH/Oulu_ALIGN/VL/Strong/P056/Anger/019.jpeg\n",
      "/Projects/NIR_FR_PTH/Oulu_ALIGN/VL/Strong/P056/Anger/020.jpeg\n",
      "/Projects/NIR_FR_PTH/Oulu_ALIGN/VL/Strong/P056/Anger/021.jpeg\n",
      "/Projects/NIR_FR_PTH/Oulu_ALIGN/VL/Strong/P056/Anger/017.jpeg\n",
      "/Projects/NIR_FR_PTH/Oulu_ALIGN/VL/Strong/P056/Fear/019.jpeg\n",
      "/Projects/NIR_FR_PTH/Oulu_ALIGN/VL/Strong/P056/Happiness/019.jpeg\n",
      "/Projects/NIR_FR_PTH/Oulu_ALIGN/VL/Strong/P056/Sadness/027.jpeg\n",
      "/Projects/NIR_FR_PTH/Oulu_ALIGN/VL/Strong/P056/Sadness/026.jpeg\n",
      "/Projects/NIR_FR_PTH/Oulu_ALIGN/VL/Strong/P056/Sadness/025.jpeg\n",
      "/Projects/NIR_FR_PTH/Oulu_ALIGN/VL/Strong/P056/Surprise/021.jpeg\n",
      "/Projects/NIR_FR_PTH/Oulu_ALIGN/VL/Strong/P056/Surprise/022.jpeg\n",
      "/Projects/NIR_FR_PTH/Oulu_ALIGN/VL/Strong/P057/Disgust/019.jpeg\n",
      "/Projects/NIR_FR_PTH/Oulu_ALIGN/VL/Strong/P057/Disgust/020.jpeg\n",
      "/Projects/NIR_FR_PTH/Oulu_ALIGN/VL/Strong/P057/Happiness/018.jpeg\n",
      "/Projects/NIR_FR_PTH/Oulu_ALIGN/VL/Strong/P057/Happiness/023.jpeg\n",
      "/Projects/NIR_FR_PTH/Oulu_ALIGN/VL/Strong/P057/Happiness/019.jpeg\n",
      "/Projects/NIR_FR_PTH/Oulu_ALIGN/VL/Strong/P057/Happiness/020.jpeg\n",
      "/Projects/NIR_FR_PTH/Oulu_ALIGN/VL/Strong/P057/Happiness/021.jpeg\n",
      "/Projects/NIR_FR_PTH/Oulu_ALIGN/VL/Strong/P057/Happiness/022.jpeg\n",
      "/Projects/NIR_FR_PTH/Oulu_ALIGN/VL/Strong/P057/Happiness/024.jpeg\n",
      "/Projects/NIR_FR_PTH/Oulu_ALIGN/VL/Strong/P057/Sadness/023.jpeg\n",
      "/Projects/NIR_FR_PTH/Oulu_ALIGN/VL/Strong/P057/Sadness/022.jpeg\n",
      "/Projects/NIR_FR_PTH/Oulu_ALIGN/VL/Strong/P057/Sadness/024.jpeg\n",
      "/Projects/NIR_FR_PTH/Oulu_ALIGN/VL/Strong/P058/Anger/019.jpeg\n",
      "/Projects/NIR_FR_PTH/Oulu_ALIGN/VL/Strong/P058/Disgust/019.jpeg\n",
      "/Projects/NIR_FR_PTH/Oulu_ALIGN/VL/Strong/P058/Disgust/020.jpeg\n",
      "/Projects/NIR_FR_PTH/Oulu_ALIGN/VL/Strong/P058/Disgust/021.jpeg\n",
      "/Projects/NIR_FR_PTH/Oulu_ALIGN/VL/Strong/P058/Disgust/022.jpeg\n",
      "/Projects/NIR_FR_PTH/Oulu_ALIGN/VL/Strong/P058/Happiness/018.jpeg\n",
      "/Projects/NIR_FR_PTH/Oulu_ALIGN/VL/Strong/P058/Happiness/019.jpeg\n",
      "/Projects/NIR_FR_PTH/Oulu_ALIGN/VL/Strong/P058/Happiness/020.jpeg\n",
      "/Projects/NIR_FR_PTH/Oulu_ALIGN/VL/Strong/P058/Happiness/021.jpeg\n",
      "/Projects/NIR_FR_PTH/Oulu_ALIGN/VL/Strong/P058/Happiness/017.jpeg\n",
      "/Projects/NIR_FR_PTH/Oulu_ALIGN/VL/Strong/P059/Anger/018.jpeg\n",
      "/Projects/NIR_FR_PTH/Oulu_ALIGN/VL/Strong/P059/Anger/019.jpeg\n",
      "/Projects/NIR_FR_PTH/Oulu_ALIGN/VL/Strong/P059/Anger/016.jpeg\n",
      "/Projects/NIR_FR_PTH/Oulu_ALIGN/VL/Strong/P059/Anger/020.jpeg\n",
      "/Projects/NIR_FR_PTH/Oulu_ALIGN/VL/Strong/P059/Anger/017.jpeg\n",
      "/Projects/NIR_FR_PTH/Oulu_ALIGN/VL/Strong/P059/Disgust/018.jpeg\n",
      "/Projects/NIR_FR_PTH/Oulu_ALIGN/VL/Strong/P059/Disgust/019.jpeg\n",
      "/Projects/NIR_FR_PTH/Oulu_ALIGN/VL/Strong/P059/Disgust/016.jpeg\n",
      "/Projects/NIR_FR_PTH/Oulu_ALIGN/VL/Strong/P059/Disgust/017.jpeg\n",
      "/Projects/NIR_FR_PTH/Oulu_ALIGN/VL/Strong/P059/Fear/018.jpeg\n",
      "/Projects/NIR_FR_PTH/Oulu_ALIGN/VL/Strong/P059/Fear/023.jpeg\n",
      "/Projects/NIR_FR_PTH/Oulu_ALIGN/VL/Strong/P059/Fear/019.jpeg\n",
      "/Projects/NIR_FR_PTH/Oulu_ALIGN/VL/Strong/P059/Fear/016.jpeg\n",
      "/Projects/NIR_FR_PTH/Oulu_ALIGN/VL/Strong/P059/Fear/015.jpeg\n",
      "/Projects/NIR_FR_PTH/Oulu_ALIGN/VL/Strong/P059/Fear/020.jpeg\n",
      "/Projects/NIR_FR_PTH/Oulu_ALIGN/VL/Strong/P059/Fear/021.jpeg\n",
      "/Projects/NIR_FR_PTH/Oulu_ALIGN/VL/Strong/P059/Fear/022.jpeg\n",
      "/Projects/NIR_FR_PTH/Oulu_ALIGN/VL/Strong/P059/Fear/017.jpeg\n",
      "/Projects/NIR_FR_PTH/Oulu_ALIGN/VL/Strong/P059/Happiness/023.jpeg\n",
      "/Projects/NIR_FR_PTH/Oulu_ALIGN/VL/Strong/P059/Happiness/022.jpeg\n",
      "/Projects/NIR_FR_PTH/Oulu_ALIGN/VL/Strong/P059/Happiness/025.jpeg\n",
      "/Projects/NIR_FR_PTH/Oulu_ALIGN/VL/Strong/P059/Happiness/024.jpeg\n",
      "/Projects/NIR_FR_PTH/Oulu_ALIGN/VL/Strong/P059/Sadness/018.jpeg\n",
      "/Projects/NIR_FR_PTH/Oulu_ALIGN/VL/Strong/P059/Sadness/019.jpeg\n",
      "/Projects/NIR_FR_PTH/Oulu_ALIGN/VL/Strong/P060/Disgust/019.jpeg\n",
      "/Projects/NIR_FR_PTH/Oulu_ALIGN/VL/Strong/P060/Disgust/020.jpeg\n",
      "/Projects/NIR_FR_PTH/Oulu_ALIGN/VL/Strong/P060/Fear/023.jpeg\n",
      "/Projects/NIR_FR_PTH/Oulu_ALIGN/VL/Strong/P060/Fear/020.jpeg\n",
      "/Projects/NIR_FR_PTH/Oulu_ALIGN/VL/Strong/P060/Fear/021.jpeg\n",
      "/Projects/NIR_FR_PTH/Oulu_ALIGN/VL/Strong/P060/Fear/022.jpeg\n",
      "/Projects/NIR_FR_PTH/Oulu_ALIGN/VL/Strong/P060/Fear/024.jpeg\n",
      "/Projects/NIR_FR_PTH/Oulu_ALIGN/VL/Strong/P060/Happiness/023.jpeg\n",
      "/Projects/NIR_FR_PTH/Oulu_ALIGN/VL/Strong/P060/Happiness/021.jpeg\n",
      "/Projects/NIR_FR_PTH/Oulu_ALIGN/VL/Strong/P060/Happiness/022.jpeg\n",
      "/Projects/NIR_FR_PTH/Oulu_ALIGN/VL/Strong/P060/Happiness/024.jpeg\n",
      "/Projects/NIR_FR_PTH/Oulu_ALIGN/VL/Strong/P061/Anger/019.jpeg\n",
      "/Projects/NIR_FR_PTH/Oulu_ALIGN/VL/Strong/P061/Anger/020.jpeg\n",
      "/Projects/NIR_FR_PTH/Oulu_ALIGN/VL/Strong/P061/Fear/022.jpeg\n",
      "/Projects/NIR_FR_PTH/Oulu_ALIGN/VL/Strong/P061/Happiness/021.jpeg\n",
      "/Projects/NIR_FR_PTH/Oulu_ALIGN/VL/Strong/P061/Sadness/023.jpeg\n",
      "/Projects/NIR_FR_PTH/Oulu_ALIGN/VL/Strong/P061/Sadness/020.jpeg\n",
      "/Projects/NIR_FR_PTH/Oulu_ALIGN/VL/Strong/P061/Sadness/021.jpeg\n",
      "/Projects/NIR_FR_PTH/Oulu_ALIGN/VL/Strong/P061/Sadness/022.jpeg\n",
      "/Projects/NIR_FR_PTH/Oulu_ALIGN/VL/Strong/P061/Surprise/018.jpeg\n",
      "/Projects/NIR_FR_PTH/Oulu_ALIGN/VL/Strong/P061/Surprise/019.jpeg\n",
      "/Projects/NIR_FR_PTH/Oulu_ALIGN/VL/Strong/P061/Surprise/020.jpeg\n",
      "/Projects/NIR_FR_PTH/Oulu_ALIGN/VL/Strong/P062/Disgust/018.jpeg\n",
      "/Projects/NIR_FR_PTH/Oulu_ALIGN/VL/Strong/P062/Disgust/019.jpeg\n",
      "/Projects/NIR_FR_PTH/Oulu_ALIGN/VL/Strong/P062/Disgust/020.jpeg\n",
      "/Projects/NIR_FR_PTH/Oulu_ALIGN/VL/Strong/P062/Disgust/021.jpeg\n",
      "/Projects/NIR_FR_PTH/Oulu_ALIGN/VL/Strong/P062/Disgust/022.jpeg\n",
      "/Projects/NIR_FR_PTH/Oulu_ALIGN/VL/Strong/P062/Happiness/018.jpeg\n",
      "/Projects/NIR_FR_PTH/Oulu_ALIGN/VL/Strong/P062/Happiness/019.jpeg\n",
      "/Projects/NIR_FR_PTH/Oulu_ALIGN/VL/Strong/P062/Happiness/020.jpeg\n",
      "/Projects/NIR_FR_PTH/Oulu_ALIGN/VL/Strong/P062/Surprise/023.jpeg\n",
      "/Projects/NIR_FR_PTH/Oulu_ALIGN/VL/Strong/P062/Surprise/024.jpeg\n",
      "/Projects/NIR_FR_PTH/Oulu_ALIGN/VL/Strong/P063/Anger/024.jpeg\n",
      "/Projects/NIR_FR_PTH/Oulu_ALIGN/VL/Strong/P063/Fear/019.jpeg\n",
      "/Projects/NIR_FR_PTH/Oulu_ALIGN/VL/Strong/P063/Fear/020.jpeg\n",
      "/Projects/NIR_FR_PTH/Oulu_ALIGN/VL/Strong/P063/Fear/021.jpeg\n",
      "/Projects/NIR_FR_PTH/Oulu_ALIGN/VL/Strong/P063/Fear/022.jpeg\n",
      "/Projects/NIR_FR_PTH/Oulu_ALIGN/VL/Strong/P064/Anger/020.jpeg\n",
      "/Projects/NIR_FR_PTH/Oulu_ALIGN/VL/Strong/P064/Disgust/019.jpeg\n",
      "/Projects/NIR_FR_PTH/Oulu_ALIGN/VL/Strong/P064/Fear/023.jpeg\n",
      "/Projects/NIR_FR_PTH/Oulu_ALIGN/VL/Strong/P064/Fear/019.jpeg\n",
      "/Projects/NIR_FR_PTH/Oulu_ALIGN/VL/Strong/P064/Fear/020.jpeg\n",
      "/Projects/NIR_FR_PTH/Oulu_ALIGN/VL/Strong/P064/Fear/021.jpeg\n",
      "/Projects/NIR_FR_PTH/Oulu_ALIGN/VL/Strong/P064/Fear/022.jpeg\n",
      "/Projects/NIR_FR_PTH/Oulu_ALIGN/VL/Strong/P064/Happiness/023.jpeg\n",
      "/Projects/NIR_FR_PTH/Oulu_ALIGN/VL/Strong/P064/Happiness/022.jpeg\n",
      "/Projects/NIR_FR_PTH/Oulu_ALIGN/VL/Strong/P064/Happiness/025.jpeg\n",
      "/Projects/NIR_FR_PTH/Oulu_ALIGN/VL/Strong/P064/Happiness/024.jpeg\n",
      "/Projects/NIR_FR_PTH/Oulu_ALIGN/VL/Strong/P065/Anger/023.jpeg\n",
      "/Projects/NIR_FR_PTH/Oulu_ALIGN/VL/Strong/P065/Anger/020.jpeg\n",
      "/Projects/NIR_FR_PTH/Oulu_ALIGN/VL/Strong/P065/Anger/021.jpeg\n",
      "/Projects/NIR_FR_PTH/Oulu_ALIGN/VL/Strong/P065/Anger/022.jpeg\n",
      "/Projects/NIR_FR_PTH/Oulu_ALIGN/VL/Strong/P065/Anger/024.jpeg\n",
      "/Projects/NIR_FR_PTH/Oulu_ALIGN/VL/Strong/P065/Fear/018.jpeg\n",
      "/Projects/NIR_FR_PTH/Oulu_ALIGN/VL/Strong/P065/Fear/019.jpeg\n",
      "/Projects/NIR_FR_PTH/Oulu_ALIGN/VL/Strong/P065/Fear/020.jpeg\n",
      "/Projects/NIR_FR_PTH/Oulu_ALIGN/VL/Strong/P065/Fear/021.jpeg\n",
      "/Projects/NIR_FR_PTH/Oulu_ALIGN/VL/Strong/P065/Happiness/022.jpeg\n",
      "/Projects/NIR_FR_PTH/Oulu_ALIGN/VL/Strong/P065/Sadness/023.jpeg\n",
      "/Projects/NIR_FR_PTH/Oulu_ALIGN/VL/Strong/P065/Sadness/024.jpeg\n",
      "/Projects/NIR_FR_PTH/Oulu_ALIGN/VL/Strong/P065/Surprise/019.jpeg\n",
      "/Projects/NIR_FR_PTH/Oulu_ALIGN/VL/Strong/P066/Disgust/023.jpeg\n",
      "/Projects/NIR_FR_PTH/Oulu_ALIGN/VL/Strong/P067/Anger/018.jpeg\n",
      "/Projects/NIR_FR_PTH/Oulu_ALIGN/VL/Strong/P067/Anger/019.jpeg\n",
      "/Projects/NIR_FR_PTH/Oulu_ALIGN/VL/Strong/P067/Anger/020.jpeg\n",
      "/Projects/NIR_FR_PTH/Oulu_ALIGN/VL/Strong/P067/Anger/021.jpeg\n",
      "/Projects/NIR_FR_PTH/Oulu_ALIGN/VL/Strong/P067/Anger/022.jpeg\n",
      "/Projects/NIR_FR_PTH/Oulu_ALIGN/VL/Strong/P067/Fear/023.jpeg\n",
      "/Projects/NIR_FR_PTH/Oulu_ALIGN/VL/Strong/P067/Fear/019.jpeg\n",
      "/Projects/NIR_FR_PTH/Oulu_ALIGN/VL/Strong/P067/Fear/020.jpeg\n",
      "/Projects/NIR_FR_PTH/Oulu_ALIGN/VL/Strong/P067/Fear/021.jpeg\n",
      "/Projects/NIR_FR_PTH/Oulu_ALIGN/VL/Strong/P067/Fear/022.jpeg\n",
      "/Projects/NIR_FR_PTH/Oulu_ALIGN/VL/Strong/P067/Fear/025.jpeg\n",
      "/Projects/NIR_FR_PTH/Oulu_ALIGN/VL/Strong/P067/Fear/024.jpeg\n",
      "/Projects/NIR_FR_PTH/Oulu_ALIGN/VL/Strong/P068/Disgust/020.jpeg\n",
      "/Projects/NIR_FR_PTH/Oulu_ALIGN/VL/Strong/P068/Fear/023.jpeg\n",
      "/Projects/NIR_FR_PTH/Oulu_ALIGN/VL/Strong/P068/Fear/021.jpeg\n",
      "/Projects/NIR_FR_PTH/Oulu_ALIGN/VL/Strong/P068/Fear/022.jpeg\n",
      "/Projects/NIR_FR_PTH/Oulu_ALIGN/VL/Strong/P068/Sadness/018.jpeg\n",
      "/Projects/NIR_FR_PTH/Oulu_ALIGN/VL/Strong/P068/Sadness/017.jpeg\n",
      "/Projects/NIR_FR_PTH/Oulu_ALIGN/VL/Strong/P068/Surprise/019.jpeg\n",
      "/Projects/NIR_FR_PTH/Oulu_ALIGN/VL/Strong/P069/Anger/023.jpeg\n",
      "/Projects/NIR_FR_PTH/Oulu_ALIGN/VL/Strong/P069/Anger/022.jpeg\n",
      "/Projects/NIR_FR_PTH/Oulu_ALIGN/VL/Strong/P069/Disgust/023.jpeg\n",
      "/Projects/NIR_FR_PTH/Oulu_ALIGN/VL/Strong/P069/Disgust/026.jpeg\n",
      "/Projects/NIR_FR_PTH/Oulu_ALIGN/VL/Strong/P069/Disgust/025.jpeg\n",
      "/Projects/NIR_FR_PTH/Oulu_ALIGN/VL/Strong/P069/Disgust/024.jpeg\n",
      "/Projects/NIR_FR_PTH/Oulu_ALIGN/VL/Strong/P069/Happiness/023.jpeg\n",
      "/Projects/NIR_FR_PTH/Oulu_ALIGN/VL/Strong/P069/Happiness/022.jpeg\n",
      "/Projects/NIR_FR_PTH/Oulu_ALIGN/VL/Strong/P069/Happiness/025.jpeg\n",
      "/Projects/NIR_FR_PTH/Oulu_ALIGN/VL/Strong/P069/Happiness/024.jpeg\n",
      "/Projects/NIR_FR_PTH/Oulu_ALIGN/VL/Strong/P070/Disgust/018.jpeg\n",
      "/Projects/NIR_FR_PTH/Oulu_ALIGN/VL/Strong/P070/Disgust/019.jpeg\n",
      "/Projects/NIR_FR_PTH/Oulu_ALIGN/VL/Strong/P070/Disgust/020.jpeg\n",
      "/Projects/NIR_FR_PTH/Oulu_ALIGN/VL/Strong/P070/Disgust/021.jpeg\n",
      "/Projects/NIR_FR_PTH/Oulu_ALIGN/VL/Strong/P070/Disgust/022.jpeg\n",
      "/Projects/NIR_FR_PTH/Oulu_ALIGN/VL/Strong/P070/Sadness/021.jpeg\n",
      "/Projects/NIR_FR_PTH/Oulu_ALIGN/VL/Strong/P070/Sadness/022.jpeg\n",
      "/Projects/NIR_FR_PTH/Oulu_ALIGN/VL/Strong/P071/Anger/023.jpeg\n",
      "/Projects/NIR_FR_PTH/Oulu_ALIGN/VL/Strong/P071/Anger/021.jpeg\n",
      "/Projects/NIR_FR_PTH/Oulu_ALIGN/VL/Strong/P071/Anger/022.jpeg\n",
      "/Projects/NIR_FR_PTH/Oulu_ALIGN/VL/Strong/P071/Anger/025.jpeg\n",
      "/Projects/NIR_FR_PTH/Oulu_ALIGN/VL/Strong/P071/Anger/024.jpeg\n",
      "/Projects/NIR_FR_PTH/Oulu_ALIGN/VL/Strong/P071/Disgust/023.jpeg\n",
      "/Projects/NIR_FR_PTH/Oulu_ALIGN/VL/Strong/P071/Disgust/020.jpeg\n",
      "/Projects/NIR_FR_PTH/Oulu_ALIGN/VL/Strong/P071/Disgust/021.jpeg\n",
      "/Projects/NIR_FR_PTH/Oulu_ALIGN/VL/Strong/P071/Disgust/022.jpeg\n",
      "/Projects/NIR_FR_PTH/Oulu_ALIGN/VL/Strong/P071/Disgust/024.jpeg\n",
      "/Projects/NIR_FR_PTH/Oulu_ALIGN/VL/Strong/P071/Sadness/023.jpeg\n",
      "/Projects/NIR_FR_PTH/Oulu_ALIGN/VL/Strong/P071/Sadness/022.jpeg\n",
      "/Projects/NIR_FR_PTH/Oulu_ALIGN/VL/Strong/P072/Fear/018.jpeg\n",
      "/Projects/NIR_FR_PTH/Oulu_ALIGN/VL/Strong/P072/Fear/019.jpeg\n",
      "/Projects/NIR_FR_PTH/Oulu_ALIGN/VL/Strong/P072/Fear/016.jpeg\n",
      "/Projects/NIR_FR_PTH/Oulu_ALIGN/VL/Strong/P072/Fear/020.jpeg\n",
      "/Projects/NIR_FR_PTH/Oulu_ALIGN/VL/Strong/P072/Fear/021.jpeg\n",
      "/Projects/NIR_FR_PTH/Oulu_ALIGN/VL/Strong/P072/Fear/022.jpeg\n",
      "/Projects/NIR_FR_PTH/Oulu_ALIGN/VL/Strong/P072/Fear/017.jpeg\n",
      "/Projects/NIR_FR_PTH/Oulu_ALIGN/VL/Strong/P072/Sadness/021.jpeg\n",
      "/Projects/NIR_FR_PTH/Oulu_ALIGN/VL/Strong/P072/Surprise/026.jpeg\n",
      "/Projects/NIR_FR_PTH/Oulu_ALIGN/VL/Strong/P073/Anger/018.jpeg\n",
      "/Projects/NIR_FR_PTH/Oulu_ALIGN/VL/Strong/P073/Anger/019.jpeg\n",
      "/Projects/NIR_FR_PTH/Oulu_ALIGN/VL/Strong/P073/Anger/016.jpeg\n",
      "/Projects/NIR_FR_PTH/Oulu_ALIGN/VL/Strong/P073/Anger/015.jpeg\n",
      "/Projects/NIR_FR_PTH/Oulu_ALIGN/VL/Strong/P073/Anger/020.jpeg\n",
      "/Projects/NIR_FR_PTH/Oulu_ALIGN/VL/Strong/P073/Anger/021.jpeg\n",
      "/Projects/NIR_FR_PTH/Oulu_ALIGN/VL/Strong/P073/Anger/014.jpeg\n",
      "/Projects/NIR_FR_PTH/Oulu_ALIGN/VL/Strong/P073/Anger/017.jpeg\n",
      "/Projects/NIR_FR_PTH/Oulu_ALIGN/VL/Strong/P073/Sadness/019.jpeg\n",
      "/Projects/NIR_FR_PTH/Oulu_ALIGN/VL/Strong/P073/Sadness/020.jpeg\n",
      "/Projects/NIR_FR_PTH/Oulu_ALIGN/VL/Strong/P073/Sadness/021.jpeg\n",
      "/Projects/NIR_FR_PTH/Oulu_ALIGN/VL/Strong/P073/Surprise/027.jpeg\n",
      "/Projects/NIR_FR_PTH/Oulu_ALIGN/VL/Strong/P073/Surprise/026.jpeg\n",
      "/Projects/NIR_FR_PTH/Oulu_ALIGN/VL/Strong/P073/Surprise/025.jpeg\n",
      "/Projects/NIR_FR_PTH/Oulu_ALIGN/VL/Strong/P073/Surprise/024.jpeg\n"
     ]
    },
    {
     "name": "stdout",
     "output_type": "stream",
     "text": [
      "/Projects/NIR_FR_PTH/Oulu_ALIGN/VL/Strong/P074/Disgust/027.jpeg\n",
      "/Projects/NIR_FR_PTH/Oulu_ALIGN/VL/Strong/P074/Disgust/028.jpeg\n",
      "/Projects/NIR_FR_PTH/Oulu_ALIGN/VL/Strong/P074/Disgust/026.jpeg\n",
      "/Projects/NIR_FR_PTH/Oulu_ALIGN/VL/Strong/P074/Fear/022.jpeg\n",
      "/Projects/NIR_FR_PTH/Oulu_ALIGN/VL/Strong/P074/Surprise/023.jpeg\n",
      "/Projects/NIR_FR_PTH/Oulu_ALIGN/VL/Strong/P075/Anger/023.jpeg\n",
      "/Projects/NIR_FR_PTH/Oulu_ALIGN/VL/Strong/P075/Disgust/027.jpeg\n",
      "/Projects/NIR_FR_PTH/Oulu_ALIGN/VL/Strong/P075/Disgust/026.jpeg\n",
      "/Projects/NIR_FR_PTH/Oulu_ALIGN/VL/Strong/P075/Happiness/023.jpeg\n",
      "/Projects/NIR_FR_PTH/Oulu_ALIGN/VL/Strong/P075/Happiness/020.jpeg\n",
      "/Projects/NIR_FR_PTH/Oulu_ALIGN/VL/Strong/P075/Happiness/021.jpeg\n",
      "/Projects/NIR_FR_PTH/Oulu_ALIGN/VL/Strong/P075/Happiness/022.jpeg\n",
      "/Projects/NIR_FR_PTH/Oulu_ALIGN/VL/Strong/P075/Sadness/019.jpeg\n",
      "/Projects/NIR_FR_PTH/Oulu_ALIGN/VL/Strong/P075/Sadness/020.jpeg\n",
      "/Projects/NIR_FR_PTH/Oulu_ALIGN/VL/Strong/P075/Sadness/021.jpeg\n",
      "/Projects/NIR_FR_PTH/Oulu_ALIGN/VL/Strong/P075/Sadness/022.jpeg\n",
      "/Projects/NIR_FR_PTH/Oulu_ALIGN/VL/Strong/P075/Surprise/018.jpeg\n",
      "/Projects/NIR_FR_PTH/Oulu_ALIGN/VL/Strong/P075/Surprise/019.jpeg\n",
      "/Projects/NIR_FR_PTH/Oulu_ALIGN/VL/Strong/P075/Surprise/016.jpeg\n",
      "/Projects/NIR_FR_PTH/Oulu_ALIGN/VL/Strong/P075/Surprise/020.jpeg\n",
      "/Projects/NIR_FR_PTH/Oulu_ALIGN/VL/Strong/P075/Surprise/021.jpeg\n",
      "/Projects/NIR_FR_PTH/Oulu_ALIGN/VL/Strong/P075/Surprise/022.jpeg\n",
      "/Projects/NIR_FR_PTH/Oulu_ALIGN/VL/Strong/P075/Surprise/017.jpeg\n",
      "/Projects/NIR_FR_PTH/Oulu_ALIGN/VL/Strong/P076/Anger/020.jpeg\n",
      "/Projects/NIR_FR_PTH/Oulu_ALIGN/VL/Strong/P076/Anger/021.jpeg\n",
      "/Projects/NIR_FR_PTH/Oulu_ALIGN/VL/Strong/P076/Fear/023.jpeg\n",
      "/Projects/NIR_FR_PTH/Oulu_ALIGN/VL/Strong/P076/Fear/022.jpeg\n",
      "/Projects/NIR_FR_PTH/Oulu_ALIGN/VL/Strong/P076/Sadness/018.jpeg\n",
      "/Projects/NIR_FR_PTH/Oulu_ALIGN/VL/Strong/P076/Sadness/023.jpeg\n",
      "/Projects/NIR_FR_PTH/Oulu_ALIGN/VL/Strong/P076/Sadness/019.jpeg\n",
      "/Projects/NIR_FR_PTH/Oulu_ALIGN/VL/Strong/P076/Sadness/020.jpeg\n",
      "/Projects/NIR_FR_PTH/Oulu_ALIGN/VL/Strong/P076/Sadness/021.jpeg\n",
      "/Projects/NIR_FR_PTH/Oulu_ALIGN/VL/Strong/P076/Sadness/022.jpeg\n",
      "/Projects/NIR_FR_PTH/Oulu_ALIGN/VL/Strong/P076/Sadness/024.jpeg\n",
      "/Projects/NIR_FR_PTH/Oulu_ALIGN/VL/Strong/P076/Surprise/027.jpeg\n",
      "/Projects/NIR_FR_PTH/Oulu_ALIGN/VL/Strong/P076/Surprise/026.jpeg\n",
      "/Projects/NIR_FR_PTH/Oulu_ALIGN/VL/Strong/P076/Surprise/025.jpeg\n",
      "/Projects/NIR_FR_PTH/Oulu_ALIGN/VL/Strong/P076/Surprise/024.jpeg\n",
      "/Projects/NIR_FR_PTH/Oulu_ALIGN/VL/Strong/P077/Anger/019.jpeg\n",
      "/Projects/NIR_FR_PTH/Oulu_ALIGN/VL/Strong/P077/Sadness/019.jpeg\n",
      "/Projects/NIR_FR_PTH/Oulu_ALIGN/VL/Strong/P077/Sadness/020.jpeg\n",
      "/Projects/NIR_FR_PTH/Oulu_ALIGN/VL/Strong/P077/Sadness/021.jpeg\n",
      "/Projects/NIR_FR_PTH/Oulu_ALIGN/VL/Strong/P077/Sadness/022.jpeg\n",
      "/Projects/NIR_FR_PTH/Oulu_ALIGN/VL/Strong/P077/Surprise/018.jpeg\n",
      "/Projects/NIR_FR_PTH/Oulu_ALIGN/VL/Strong/P077/Surprise/019.jpeg\n",
      "/Projects/NIR_FR_PTH/Oulu_ALIGN/VL/Strong/P077/Surprise/017.jpeg\n",
      "/Projects/NIR_FR_PTH/Oulu_ALIGN/VL/Strong/P078/Disgust/023.jpeg\n",
      "/Projects/NIR_FR_PTH/Oulu_ALIGN/VL/Strong/P078/Disgust/020.jpeg\n",
      "/Projects/NIR_FR_PTH/Oulu_ALIGN/VL/Strong/P078/Disgust/021.jpeg\n",
      "/Projects/NIR_FR_PTH/Oulu_ALIGN/VL/Strong/P078/Disgust/022.jpeg\n",
      "/Projects/NIR_FR_PTH/Oulu_ALIGN/VL/Strong/P078/Disgust/025.jpeg\n",
      "/Projects/NIR_FR_PTH/Oulu_ALIGN/VL/Strong/P078/Disgust/024.jpeg\n",
      "/Projects/NIR_FR_PTH/Oulu_ALIGN/VL/Strong/P078/Fear/023.jpeg\n",
      "/Projects/NIR_FR_PTH/Oulu_ALIGN/VL/Strong/P078/Fear/020.jpeg\n",
      "/Projects/NIR_FR_PTH/Oulu_ALIGN/VL/Strong/P078/Fear/021.jpeg\n",
      "/Projects/NIR_FR_PTH/Oulu_ALIGN/VL/Strong/P078/Fear/022.jpeg\n",
      "/Projects/NIR_FR_PTH/Oulu_ALIGN/VL/Strong/P078/Fear/025.jpeg\n",
      "/Projects/NIR_FR_PTH/Oulu_ALIGN/VL/Strong/P078/Fear/024.jpeg\n",
      "/Projects/NIR_FR_PTH/Oulu_ALIGN/VL/Strong/P078/Happiness/023.jpeg\n",
      "/Projects/NIR_FR_PTH/Oulu_ALIGN/VL/Strong/P078/Happiness/019.jpeg\n",
      "/Projects/NIR_FR_PTH/Oulu_ALIGN/VL/Strong/P078/Happiness/020.jpeg\n",
      "/Projects/NIR_FR_PTH/Oulu_ALIGN/VL/Strong/P078/Happiness/021.jpeg\n",
      "/Projects/NIR_FR_PTH/Oulu_ALIGN/VL/Strong/P078/Happiness/027.jpeg\n",
      "/Projects/NIR_FR_PTH/Oulu_ALIGN/VL/Strong/P078/Happiness/022.jpeg\n",
      "/Projects/NIR_FR_PTH/Oulu_ALIGN/VL/Strong/P078/Happiness/026.jpeg\n",
      "/Projects/NIR_FR_PTH/Oulu_ALIGN/VL/Strong/P078/Happiness/025.jpeg\n",
      "/Projects/NIR_FR_PTH/Oulu_ALIGN/VL/Strong/P078/Happiness/024.jpeg\n",
      "/Projects/NIR_FR_PTH/Oulu_ALIGN/VL/Strong/P078/Sadness/020.jpeg\n",
      "/Projects/NIR_FR_PTH/Oulu_ALIGN/VL/Strong/P078/Sadness/021.jpeg\n",
      "/Projects/NIR_FR_PTH/Oulu_ALIGN/VL/Strong/P078/Surprise/023.jpeg\n",
      "/Projects/NIR_FR_PTH/Oulu_ALIGN/VL/Strong/P078/Surprise/019.jpeg\n",
      "/Projects/NIR_FR_PTH/Oulu_ALIGN/VL/Strong/P078/Surprise/020.jpeg\n",
      "/Projects/NIR_FR_PTH/Oulu_ALIGN/VL/Strong/P078/Surprise/021.jpeg\n",
      "/Projects/NIR_FR_PTH/Oulu_ALIGN/VL/Strong/P078/Surprise/022.jpeg\n",
      "/Projects/NIR_FR_PTH/Oulu_ALIGN/VL/Strong/P078/Surprise/025.jpeg\n",
      "/Projects/NIR_FR_PTH/Oulu_ALIGN/VL/Strong/P078/Surprise/024.jpeg\n",
      "/Projects/NIR_FR_PTH/Oulu_ALIGN/VL/Strong/P079/Anger/018.jpeg\n",
      "/Projects/NIR_FR_PTH/Oulu_ALIGN/VL/Strong/P079/Anger/019.jpeg\n",
      "/Projects/NIR_FR_PTH/Oulu_ALIGN/VL/Strong/P079/Disgust/024.jpeg\n",
      "/Projects/NIR_FR_PTH/Oulu_ALIGN/VL/Strong/P079/Sadness/019.jpeg\n",
      "/Projects/NIR_FR_PTH/Oulu_ALIGN/VL/Strong/P079/Sadness/020.jpeg\n",
      "/Projects/NIR_FR_PTH/Oulu_ALIGN/VL/Strong/P079/Surprise/018.jpeg\n",
      "/Projects/NIR_FR_PTH/Oulu_ALIGN/VL/Strong/P079/Surprise/023.jpeg\n",
      "/Projects/NIR_FR_PTH/Oulu_ALIGN/VL/Strong/P079/Surprise/019.jpeg\n",
      "/Projects/NIR_FR_PTH/Oulu_ALIGN/VL/Strong/P079/Surprise/020.jpeg\n",
      "/Projects/NIR_FR_PTH/Oulu_ALIGN/VL/Strong/P079/Surprise/021.jpeg\n",
      "/Projects/NIR_FR_PTH/Oulu_ALIGN/VL/Strong/P079/Surprise/022.jpeg\n",
      "/Projects/NIR_FR_PTH/Oulu_ALIGN/VL/Strong/P080/Disgust/020.jpeg\n",
      "/Projects/NIR_FR_PTH/Oulu_ALIGN/VL/Strong/P080/Sadness/021.jpeg\n",
      "/Projects/NIR_FR_PTH/Oulu_ALIGN/VL/Strong/P080/Sadness/022.jpeg\n"
     ]
    }
   ],
   "source": [
    "for imp in ds:\n",
    "    spt = imp.split('/')\n",
    "    spt[0]='/'\n",
    "    spt[-5]='VL'\n",
    "    imp1 = join(*spt)\n",
    "    if not exists(imp1):\n",
    "        print(imp1)"
   ]
  },
  {
   "cell_type": "code",
   "execution_count": 30,
   "metadata": {},
   "outputs": [
    {
     "data": {
      "text/plain": [
       "True"
      ]
     },
     "execution_count": 30,
     "metadata": {},
     "output_type": "execute_result"
    }
   ],
   "source": [
    "'/NI' in '/Projects/NIR_FR_PTH/Oulu_ALIGN/NI/Strong/P001/Anger/013.jpeg'"
   ]
  },
  {
   "cell_type": "code",
   "execution_count": 32,
   "metadata": {},
   "outputs": [
    {
     "data": {
      "text/plain": [
       "NotImplementedError"
      ]
     },
     "execution_count": 32,
     "metadata": {},
     "output_type": "execute_result"
    }
   ],
   "source": [
    "NotImplementedError"
   ]
  },
  {
   "cell_type": "code",
   "execution_count": 38,
   "metadata": {},
   "outputs": [],
   "source": [
    "im=Image.open('/Projects/NIR_FR_PTH/Oulu_ALIGN/VL/Strong/P001/Disgust/001.jpeg')"
   ]
  },
  {
   "cell_type": "code",
   "execution_count": 39,
   "metadata": {},
   "outputs": [],
   "source": [
    "im1=im.convert('RGB')"
   ]
  },
  {
   "cell_type": "code",
   "execution_count": 40,
   "metadata": {},
   "outputs": [
    {
     "data": {
      "text/plain": [
       "array([[[0, 0, 0],\n",
       "        [0, 0, 0],\n",
       "        [0, 0, 0],\n",
       "        ...,\n",
       "        [0, 0, 0],\n",
       "        [0, 0, 0],\n",
       "        [0, 0, 0]],\n",
       "\n",
       "       [[0, 0, 0],\n",
       "        [0, 0, 0],\n",
       "        [0, 0, 0],\n",
       "        ...,\n",
       "        [0, 0, 0],\n",
       "        [0, 0, 0],\n",
       "        [0, 0, 0]],\n",
       "\n",
       "       [[0, 0, 0],\n",
       "        [0, 0, 0],\n",
       "        [0, 0, 0],\n",
       "        ...,\n",
       "        [0, 0, 0],\n",
       "        [0, 0, 0],\n",
       "        [0, 0, 0]],\n",
       "\n",
       "       ...,\n",
       "\n",
       "       [[0, 0, 0],\n",
       "        [0, 0, 0],\n",
       "        [0, 0, 0],\n",
       "        ...,\n",
       "        [0, 0, 0],\n",
       "        [0, 0, 0],\n",
       "        [0, 0, 0]],\n",
       "\n",
       "       [[0, 0, 0],\n",
       "        [0, 0, 0],\n",
       "        [0, 0, 0],\n",
       "        ...,\n",
       "        [0, 0, 0],\n",
       "        [0, 0, 0],\n",
       "        [0, 0, 0]],\n",
       "\n",
       "       [[0, 0, 0],\n",
       "        [0, 0, 0],\n",
       "        [0, 0, 0],\n",
       "        ...,\n",
       "        [0, 0, 0],\n",
       "        [0, 0, 0],\n",
       "        [0, 0, 0]]], dtype=uint8)"
      ]
     },
     "execution_count": 40,
     "metadata": {},
     "output_type": "execute_result"
    }
   ],
   "source": [
    "np.array(im)-np.array(im1)"
   ]
  },
  {
   "cell_type": "code",
   "execution_count": 41,
   "metadata": {},
   "outputs": [
    {
     "data": {
      "text/plain": [
       "(112, 112)"
      ]
     },
     "execution_count": 41,
     "metadata": {},
     "output_type": "execute_result"
    }
   ],
   "source": [
    "im.size"
   ]
  },
  {
   "cell_type": "code",
   "execution_count": 42,
   "metadata": {},
   "outputs": [
    {
     "data": {
      "text/plain": [
       "2"
      ]
     },
     "execution_count": 42,
     "metadata": {},
     "output_type": "execute_result"
    }
   ],
   "source": [
    "Image.BILINEAR"
   ]
  },
  {
   "cell_type": "code",
   "execution_count": 43,
   "metadata": {},
   "outputs": [],
   "source": [
    "import random"
   ]
  },
  {
   "cell_type": "code",
   "execution_count": 44,
   "metadata": {},
   "outputs": [],
   "source": [
    "random.seed(100)"
   ]
  },
  {
   "cell_type": "code",
   "execution_count": 50,
   "metadata": {},
   "outputs": [
    {
     "data": {
      "text/plain": [
       "0.7707838056590222"
      ]
     },
     "execution_count": 50,
     "metadata": {},
     "output_type": "execute_result"
    }
   ],
   "source": [
    "random.random()"
   ]
  },
  {
   "cell_type": "code",
   "execution_count": 52,
   "metadata": {},
   "outputs": [
    {
     "data": {
      "text/plain": [
       "'/Projects/NIR_FR_PTH/Oulu_ALIGN/NI/Strong/P001/Fear/018.jpeg'"
      ]
     },
     "execution_count": 52,
     "metadata": {},
     "output_type": "execute_result"
    }
   ],
   "source": [
    "'/Projects/NIR_FR_PTH/Oulu_ALIGN/VL/Strong/P001/Fear/018.jpeg'.replace('/VL/', '/NI/')"
   ]
  },
  {
   "cell_type": "code",
   "execution_count": 57,
   "metadata": {},
   "outputs": [],
   "source": [
    "a=sorted([3,1,2])"
   ]
  },
  {
   "cell_type": "code",
   "execution_count": 58,
   "metadata": {},
   "outputs": [
    {
     "data": {
      "text/plain": [
       "[1, 2, 3]"
      ]
     },
     "execution_count": 58,
     "metadata": {},
     "output_type": "execute_result"
    }
   ],
   "source": [
    "a"
   ]
  },
  {
   "cell_type": "code",
   "execution_count": 59,
   "metadata": {},
   "outputs": [
    {
     "data": {
      "text/plain": [
       "2"
      ]
     },
     "execution_count": 59,
     "metadata": {},
     "output_type": "execute_result"
    }
   ],
   "source": [
    "a.index(3)"
   ]
  },
  {
   "cell_type": "code",
   "execution_count": 5,
   "metadata": {},
   "outputs": [
    {
     "ename": "NameError",
     "evalue": "name 'a' is not defined",
     "output_type": "error",
     "traceback": [
      "\u001b[0;31m---------------------------------------------------------------------------\u001b[0m",
      "\u001b[0;31mNameError\u001b[0m                                 Traceback (most recent call last)",
      "\u001b[0;32m<ipython-input-5-12072e0a8482>\u001b[0m in \u001b[0;36m<module>\u001b[0;34m()\u001b[0m\n\u001b[0;32m----> 1\u001b[0;31m \u001b[0ma\u001b[0m\u001b[0;34m.\u001b[0m\u001b[0mb\u001b[0m\u001b[0;34m=\u001b[0m\u001b[0;36m1\u001b[0m\u001b[0;34m\u001b[0m\u001b[0m\n\u001b[0m",
      "\u001b[0;31mNameError\u001b[0m: name 'a' is not defined"
     ]
    }
   ],
   "source": [
    "a.b=1"
   ]
  },
  {
   "cell_type": "code",
   "execution_count": null,
   "metadata": {},
   "outputs": [],
   "source": []
  }
 ],
 "metadata": {
  "kernelspec": {
   "display_name": "Python 3",
   "language": "python",
   "name": "python3"
  },
  "language_info": {
   "codemirror_mode": {
    "name": "ipython",
    "version": 3
   },
   "file_extension": ".py",
   "mimetype": "text/x-python",
   "name": "python",
   "nbconvert_exporter": "python",
   "pygments_lexer": "ipython3",
   "version": "3.6.5"
  }
 },
 "nbformat": 4,
 "nbformat_minor": 2
}
